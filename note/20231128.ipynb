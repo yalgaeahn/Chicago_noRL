{
 "cells": [
  {
   "cell_type": "code",
   "execution_count": null,
   "id": "a7289193-230e-4906-b440-a89bd5db8a3a",
   "metadata": {
    "is_executing": true
   },
   "outputs": [],
   "source": [
    "import numpy as np\n",
    "import matplotlib.pyplot as plt\n",
    "import qutip"
   ]
  },
  {
   "cell_type": "code",
   "execution_count": 30,
   "id": "228730a4-5d41-4f5c-a44f-ee4cdcffed33",
   "metadata": {},
   "outputs": [],
   "source": [
    "%matplotlib inline"
   ]
  },
  {
   "cell_type": "markdown",
   "id": "d22773a2-5441-4631-9781-2c26571a6378",
   "metadata": {},
   "source": [
    "# pi pulse 만들어서 qutip 으로 시각화\n",
    "X,Y drive line capacitvely coupled with qubit (Assuming weak coupling)\n",
    "$$H(t) = H_0 +H_d(t) $$\n",
    "$$H(t) = -\\frac{1}{2}\\omega_q \\sigma_z + \\Omega V_d(t) \\sigma_y $$\n",
    "$\\Omega=(C_d/C_{\\Sigma})Q_{zpf}$ and $V_d(t)=V_0s(t)\\sin(\\omega_dt+\\phi)$\n",
    "\n",
    "rotating frame 에서 RWA 까지 하면\n",
    "\n",
    "$$\n",
    "\\tilde{H}_{d}(t)=-\\frac{1}{2}\\Omega V_0 S_{\\theta}(t)\n",
    "\\begin{pmatrix}\n",
    "0 & e^{i(\\delta\\omega t+\\phi)} \\\\\n",
    "e^{-i(\\delta\\omega t+\\phi)} & 0 \n",
    "\\end{pmatrix} \\qquad (90)\n",
    "$$"
   ]
  },
  {
   "cell_type": "code",
   "execution_count": 2,
   "id": "f353ecca-e8a4-4e17-a687-2b01a0f7a64f",
   "metadata": {},
   "outputs": [],
   "source": [
    "def make_U(H, time_step):\n",
    "    \"\"\"\n",
    "    PARAMETER\n",
    "        Hamiltonian : function of t\n",
    "        time_step : float\n",
    "    RETURNS\n",
    "        U : function of t\n",
    "    \"\"\"\n",
    "    hbar = 1.\n",
    "    I = np.identity(2,dtype=\"complex128\")\n",
    "    \n",
    "    def U(t):\n",
    "        total = I #U(t=0)\n",
    "        check = [I]\n",
    "        times = np.arange(start=0,stop=t,step=time_step)\n",
    "        for time in times:\n",
    "            derivative = (-1j/hbar)*np.matmul(H(time),total)*time_step\n",
    "            total = total + derivative\n",
    "            check.append(total) \n",
    "        return total, np.array(check)\n",
    "        \n",
    "\n",
    "    return U"
   ]
  },
  {
   "cell_type": "code",
   "execution_count": null,
   "id": "a55815f8-3226-477c-b8ed-6a6679820407",
   "metadata": {
    "is_executing": true
   },
   "outputs": [],
   "source": [
    "def make_H_d(Omega,V_0,delta_omega,phi,s):\n",
    "    \"\"\"\n",
    "    PARAMETER\n",
    "        -s:function \n",
    "    RETURN \n",
    "        -H: time-dependent Hamiltonian (Hermitian for all t)\n",
    "    \"\"\" \n",
    "    \n",
    "    def H(t):\n",
    "        matrix=np.zeros((2,2),dtype='complex128')\n",
    "        matrix[0][1]=np.exp((1j)*(delta_omega*t))\n",
    "        matrix[1][0]=np.exp((-1j)*(delta_omega*t))\n",
    "    \n",
    "        return (-0.5)*Omega*V_0*s(t)*matrix\n",
    "    \n",
    "    return H"
   ]
  },
  {
   "cell_type": "markdown",
   "id": "95b46e2e-5d30-4d81-888e-5916e0209228",
   "metadata": {},
   "source": [
    "Let's make $\\pi$ pulse! \n",
    "\n",
    "## Setting\n",
    "Detuning\n",
    "$\\delta \\omega = 0.001$\n",
    "$\\Omega=1.$\n",
    "$\\phi=0.1$\n",
    "$\\hbar=1.$"
   ]
  },
  {
   "cell_type": "code",
   "execution_count": 4,
   "id": "55ce0819-ca11-4239-87d6-737adaea30fa",
   "metadata": {},
   "outputs": [],
   "source": [
    "delta_omega=0.001\n",
    "phi=0.1\n",
    "Omega=1.\n",
    "V_0=1."
   ]
  },
  {
   "cell_type": "code",
   "execution_count": 37,
   "id": "de6eb8ca-13e0-4ede-968a-d13fe5ee0214",
   "metadata": {},
   "outputs": [],
   "source": [
    "def s(t):\n",
    "    constant=(np.pi)**2/(160.*Omega*V_0)\n",
    "    if 0 <= t <= 80.:\n",
    "        return (0.1)*np.sin(((np.pi)/80.)*t) \n",
    "    else:\n",
    "        return 0"
   ]
  },
  {
   "cell_type": "code",
   "execution_count": 38,
   "id": "c7314e2f-ac26-4f11-b109-4a6f668abb33",
   "metadata": {},
   "outputs": [
    {
     "data": {
      "text/plain": [
       "[<matplotlib.lines.Line2D at 0x1223a8e50>]"
      ]
     },
     "execution_count": 38,
     "metadata": {},
     "output_type": "execute_result"
    },
    {
     "data": {
      "image/png": "[encoded data removed]",
      "text/plain": [
       "<Figure size 640x480 with 1 Axes>"
      ]
     },
     "metadata": {},
     "output_type": "display_data"
    }
   ],
   "source": [
    "fig, ax =plt.subplots()\n",
    "times1=np.arange(start=0,stop=80.+(1e-4),step=1e-4)\n",
    "ax.plot(times1, [s(time) for time in times1])"
   ]
  },
  {
   "cell_type": "code",
   "execution_count": 39,
   "id": "8b3a01c2-baa3-4358-beec-9cad00d3970f",
   "metadata": {},
   "outputs": [],
   "source": [
    "testH=make_H_d(Omega=1.,V_0=1.,delta_omega=0.001,phi=0.1,s=s)\n",
    "testU = make_U(testH,1e-4)"
   ]
  },
  {
   "cell_type": "code",
   "execution_count": 40,
   "id": "afb280f3-f8b1-4768-be91-9991565e9e6d",
   "metadata": {},
   "outputs": [],
   "source": [
    "transition , info = testU(80.)"
   ]
  },
  {
   "cell_type": "code",
   "execution_count": 41,
   "id": "3c7e3e2c-c27e-49da-8192-d44e23e052f1",
   "metadata": {},
   "outputs": [
    {
     "data": {
      "text/plain": [
       "array([[1.00001000e+00-5.11421037e-19j, 3.10042195e-18+1.51315963e-18j],\n",
       "       [3.10042195e-18-5.54920059e-18j, 1.00001000e+00+1.05736243e-18j]])"
      ]
     },
     "execution_count": 41,
     "metadata": {},
     "output_type": "execute_result"
    }
   ],
   "source": [
    "#checking unitarity\n",
    "np.matmul(transition,np.matrix.getH(transition))\n",
    "#looks okay"
   ]
  },
  {
   "cell_type": "markdown",
   "id": "8dbac96a-d66c-48e2-8c9a-cc26fbda0533",
   "metadata": {},
   "source": [
    "### checking convergence\n",
    "뭐지  안갈라지지?\n",
    "10e-4\n",
    "10e-5 \n",
    "s(t) amp=1 로  두고 t=80. 까지 했는데 안갈라짐..\n",
    "amp=10 으로 둬 보겠음"
   ]
  },
  {
   "cell_type": "code",
   "execution_count": 42,
   "id": "d9f847d4-eccc-442f-99a3-d3013a7c21e6",
   "metadata": {},
   "outputs": [],
   "source": [
    "testU2 = make_U(testH,1e-5) \n",
    "testU3 = make_U(testH,1e-1)"
   ]
  },
  {
   "cell_type": "code",
   "execution_count": 43,
   "id": "83f00106-b3f0-4199-8a79-67a2c685af76",
   "metadata": {},
   "outputs": [],
   "source": [
    "transition2, info2 = testU2(80.)\n",
    "transition3, info3 = testU3(80.)"
   ]
  },
  {
   "cell_type": "code",
   "execution_count": 44,
   "id": "54fbe960-034d-4511-ba40-8bf729da67b0",
   "metadata": {},
   "outputs": [
    {
     "data": {
      "text/plain": [
       "7999200"
      ]
     },
     "execution_count": 44,
     "metadata": {},
     "output_type": "execute_result"
    }
   ],
   "source": [
    "len(info2)-len(info3)"
   ]
  },
  {
   "cell_type": "code",
   "execution_count": 45,
   "id": "2e660c33-3ab7-42c1-a8a4-44c2df80c677",
   "metadata": {},
   "outputs": [
    {
     "data": {
      "text/plain": [
       "[<matplotlib.lines.Line2D at 0x2bf159cd0>]"
      ]
     },
     "execution_count": 45,
     "metadata": {},
     "output_type": "execute_result"
    },
    {
     "data": {
      "image/png": "[encoded data removed]",
      "text/plain": [
       "<Figure size 640x480 with 1 Axes>"
      ]
     },
     "metadata": {},
     "output_type": "display_data"
    }
   ],
   "source": [
    "fig, ax =plt.subplots()\n",
    "ax.plot(np.arange(start=0,stop=80.+(1e-4),step=1e-4), [v[0][1] for v in info])\n",
    "ax.plot(np.arange(start=0,stop=80.+(1e-5),step=1e-5), [v[0][1] for v in info2])\n",
    "#ax.plot(np.arange(start=0,stop=80.+(1e-1),step=1e-1), [v[0][1] for v in info3]) "
   ]
  },
  {
   "cell_type": "code",
   "execution_count": 46,
   "id": "c75381fe-ca43-446a-878f-3b42c512ea17",
   "metadata": {},
   "outputs": [],
   "source": [
    "#initializing qubit at ground state\n",
    "initial_state = np.array([[1.,0]],dtype=\"complex128\").T"
   ]
  },
  {
   "cell_type": "code",
   "execution_count": 29,
   "id": "cf4d8c3d-1778-4901-8667-fe9267a83229",
   "metadata": {},
   "outputs": [],
   "source": [
    "transition_state=np.matmul(transition,initial_state)"
   ]
  },
  {
   "cell_type": "code",
   "execution_count": null,
   "id": "59e700f2-c753-4927-a64f-57845aad3c5a",
   "metadata": {},
   "outputs": [],
   "source": [
    "Bloch=qutip.Bloch()\n",
    "Bloch.render()\n",
    "Bloch.show()"
   ]
  },
  {
   "cell_type": "code",
   "execution_count": null,
   "id": "c37f89b8-4579-44fe-95c5-c2f7003d78df",
   "metadata": {},
   "outputs": [],
   "source": []
  }
 ],
 "metadata": {
  "kernelspec": {
   "display_name": "Python 3 (ipykernel)",
   "language": "python",
   "name": "python3"
  },
  "language_info": {
   "codemirror_mode": {
    "name": "ipython",
    "version": 3
   },
   "file_extension": ".py",
   "mimetype": "text/x-python",
   "name": "python",
   "nbconvert_exporter": "python",
   "pygments_lexer": "ipython3",
   "version": "3.11.6"
  }
 },
 "nbformat": 4,
 "nbformat_minor": 5
}
