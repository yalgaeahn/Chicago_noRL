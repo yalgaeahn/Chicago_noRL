{
 "cells": [
  {
   "cell_type": "code",
   "execution_count": 2,
   "id": "initial_id",
   "metadata": {
    "collapsed": true,
    "ExecuteTime": {
     "end_time": "2023-12-07T00:20:47.786254Z",
     "start_time": "2023-12-07T00:20:47.253458Z"
    }
   },
   "outputs": [],
   "source": [
    "import numpy as np\n",
    "import matplotlib.pyplot as plt\n",
    "import qutip"
   ]
  },
  {
   "cell_type": "markdown",
   "source": [
    "Two fixed frequency qubit coupled via tunable coupler ($w_{q1}-w_{q2}=constant$)\n",
    "(All qubit are assumed as a perfect two level system)\n",
    "$$H(t)=H_0+H_{int}(t)+H_{d1}(t)+H_{d2}(t)$$\n",
    "$$H_0=-\\frac{\\omega_{q1}}{2}\\sigma_{z 1}-\\frac{\\omega_{q2}}{2}\\sigma_{z 2}$$\n",
    "$$H_{int}(t)=g(t)\\sigma_{y1}\\sigma_{y2}$$\n",
    "$$H_{d1}(t)=\\Omega_1V_{d1}(t)\\sigma_{y1}$$\n",
    "\n",
    "$$U_{rf}(t)=e^{iH_0t}$$ \n",
    "interaction picture\n",
    "\n",
    "$$\\tilde{H}(t)=U_{rf}(t)H_{int}(t)U_{rf}^{\\dagger}(t)=g(t) \\Big[ \\cos(\\omega_{q1}t)\\sigma_{y1}-\\sin(\\omega_{q1}t)  \\sigma_{x1} \\Big] \\Big[ \\cos(\\omega_{q2}t)\\sigma_{y2}-\\sin(\\omega_{q2}t)  \\sigma_{x2} \\Big]$$\n",
    "\n",
    "RWA\n",
    "$$\\tilde{H}(t)=g(t) \\Big[ e^{i\\delta\\omega_{12}t}\\sigma_1^+ \\sigma_2^- + e^{-i\\delta\\omega_{12}t} \\sigma_1^- \\sigma_2^+ \\Big]$$\n",
    "\n",
    "$$\\tilde{H}(t)=g(t) \n",
    "\\begin{bmatrix}\n",
    "0 & 0 & 0 & 0\\\\\n",
    "0 & 0 & e^{-i\\delta \\omega_{12}t} & 0 \\\\\n",
    "0 & e^{i\\delta \\omega_{12}t} & 0 & 0 \\\\\n",
    "0 & 0 & 0 & 0\n",
    "\\end{bmatrix}\n",
    "\n",
    "-\\frac{\\Omega_1}{2}V_1S_1(t)\n",
    "\\begin{bmatrix}\n",
    "0 & 0 & e^{i(\\delta \\omega_{1d}t + \\phi_1)} & 0\\\\\n",
    "0 & 0 & 0 & e^{i(\\delta \\omega_{1d}t + \\phi_1)} \\\\\n",
    "e^{-i(\\delta \\omega_{1d}t + \\phi_1)} & 0 & 0 & 0 \\\\\n",
    "0 & e^{-i(\\delta \\omega_{1d}t + \\phi_1)} & 0 & 0\n",
    "\\end{bmatrix}\n",
    "\n",
    "-\\frac{\\Omega_2}{2}V_2S_2(t)\n",
    "\\begin{bmatrix}\n",
    "0 & e^{i(\\delta \\omega_{2d}t + \\phi_2)}& 0 & 0\\\\\n",
    "e^{-i(\\delta \\omega_{2d}t + \\phi_2)} & 0 & 0 & 0 \\\\\n",
    "0 & 0 & 0 & e^{i(\\delta \\omega_{2d}t + \\phi_2)}\\\\\n",
    "0 & 0 & e^{-i(\\delta \\omega_{2d}t + \\phi_2)} & 0\n",
    "\\end{bmatrix}$$\n"
   ],
   "metadata": {
    "collapsed": false
   },
   "id": "eeabdaa9530867fb"
  },
  {
   "cell_type": "markdown",
   "source": [
    "# Setting\n",
    "\n",
    "### Rabi oscillation frequency $\\Omega$\n",
    "\n",
    "$\\Omega_1/(2\\pi)=0.01$(10MHz)\n",
    "$\\Omega_2/(2\\pi)=0.01$(10MHz)\n",
    "\n",
    "### Qubit frequency difference $\\delta \\omega_{12}$\n",
    "얘네가 문제임 Z line으로 control 가능하게 해야 realistic 한데\n",
    "\n",
    "### Detuning $\\delta \\omega_{1}$, $\\delta \\omega_{2}$\n",
    "$\\delta \\omega=\\omega_q -\\omega_d$\n",
    "\n",
    "\n",
    "### g\n",
    "$g/(2\\pi)$=\n",
    "\n",
    "### Anharmonicty $\\eta$\n",
    "$\\eta/(2\\pi)=0$ 아직 추가안함\n",
    "\n",
    "\n",
    "\n"
   ],
   "metadata": {
    "collapsed": false
   },
   "id": "2cd76ed8a0540aeb"
  },
  {
   "cell_type": "code",
   "execution_count": 3,
   "outputs": [],
   "source": [
    "def make_U(H, time_step):\n",
    "    \"\"\"\n",
    "    PARAMETER\n",
    "        Hamiltonian : function of t\n",
    "        time_step : float\n",
    "    RETURNS\n",
    "        U : function of t\n",
    "    \"\"\"\n",
    "    hbar = 1.\n",
    "    I = np.identity(4,dtype=\"complex128\")\n",
    "    \n",
    "    def U(t):\n",
    "        total = I #U(t=0)\n",
    "        check = [I]\n",
    "        times = np.arange(start=0,stop=t,step=time_step)\n",
    "        for time in times:\n",
    "            derivative = (-1j/hbar)*np.matmul(H(time),total)*time_step\n",
    "            total = total + derivative\n",
    "            check.append(total) \n",
    "        return total, np.array(check)\n",
    "    return U"
   ],
   "metadata": {
    "collapsed": false,
    "ExecuteTime": {
     "end_time": "2023-12-07T00:20:48.128653Z",
     "start_time": "2023-12-07T00:20:48.125962Z"
    }
   },
   "id": "46726427f8a1e49d"
  },
  {
   "cell_type": "code",
   "execution_count": 4,
   "outputs": [],
   "source": [
    "def make_H_int(g,delta_omega):\n",
    "    \"\"\"\n",
    "    \n",
    "    :param g: coupling strength\n",
    "    :param detuning: omega_q1 - omega_q2\n",
    "    :return: \n",
    "    \"\"\"\n",
    "    def H_int(t):\n",
    "        matrix=np.zeros((4,4),dtype=\"complex128\")\n",
    "        matrix[2][1] = np.exp((1j)*delta_omega*t)\n",
    "        matrix[1][2] = np.exp((-1j)*delta_omega*t)\n",
    "        return g(t)*matrix\n",
    "    return H_int"
   ],
   "metadata": {
    "collapsed": false,
    "ExecuteTime": {
     "end_time": "2023-12-07T00:20:49.216368Z",
     "start_time": "2023-12-07T00:20:49.211604Z"
    }
   },
   "id": "542e2c948c010120"
  },
  {
   "cell_type": "code",
   "execution_count": 5,
   "outputs": [],
   "source": [
    "def make_H_d(Omega,V_0,delta_omega,phi,s):\n",
    "    \"\"\"\n",
    "    :param Omega:  \n",
    "    :param V_0: \n",
    "    :param delta_omega:omega_q - omega_d \n",
    "    :param phi: offset in driving sine wave\n",
    "    :param s: control pulse\n",
    "    :return: \n",
    "    \"\"\"\n",
    "    \n",
    "    def H(t):\n",
    "        matrix=np.zeros((4,4),dtype='complex128')\n",
    "        matrix[0][1]=np.exp((1j)*(delta_omega*t+phi))\n",
    "        matrix[1][0]=np.exp((-1j)*(delta_omega*t+phi))\n",
    "    \n",
    "        return (-0.5)*Omega*V_0*s(t)*matrix\n",
    "    \n",
    "    return H"
   ],
   "metadata": {
    "collapsed": false,
    "ExecuteTime": {
     "end_time": "2023-12-07T00:20:51.991877Z",
     "start_time": "2023-12-07T00:20:51.969751Z"
    }
   },
   "id": "b20ae6471f14095b"
  },
  {
   "cell_type": "code",
   "execution_count": 6,
   "outputs": [],
   "source": [
    "def g(t):\n",
    "    return 0.04*2*np.pi \n",
    "# 40MHz"
   ],
   "metadata": {
    "collapsed": false,
    "ExecuteTime": {
     "end_time": "2023-12-07T00:20:52.258127Z",
     "start_time": "2023-12-07T00:20:52.252088Z"
    }
   },
   "id": "bd3846979ebc15a7"
  },
  {
   "cell_type": "code",
   "execution_count": 10,
   "outputs": [],
   "source": [
    "def s(t):\n",
    "    return 1"
   ],
   "metadata": {
    "collapsed": false,
    "ExecuteTime": {
     "end_time": "2023-12-07T00:24:02.761355Z",
     "start_time": "2023-12-07T00:24:02.753902Z"
    }
   },
   "id": "88a499035ddc46dd"
  },
  {
   "cell_type": "code",
   "execution_count": 13,
   "outputs": [],
   "source": [
    "#Setting\n",
    "omega1 = 0.01 * 2 * np.pi #10MHz\n",
    "omega2 = 0.01 * 2 * np.pi #10MHz\n",
    "V1=1.\n",
    "V2=1. #unit?\n",
    "delta_omega1 = 0.001 * 2 * np.pi #1MHz #qubit frequency and driving frequency\n",
    "delta_omega2 = 0.001 * 2 * np.pi #1MHz\n",
    "delta_q12 = 1 * 2 * np.pi # 1GHz\n",
    "phi1 = 0.001\n",
    "phi2 = 0.001"
   ],
   "metadata": {
    "collapsed": false,
    "ExecuteTime": {
     "end_time": "2023-12-07T00:24:40.639874Z",
     "start_time": "2023-12-07T00:24:40.630487Z"
    }
   },
   "id": "6be19978740e9cfa"
  },
  {
   "cell_type": "code",
   "execution_count": 17,
   "outputs": [],
   "source": [
    "H_int = make_H_int(g=g,delta_omega=delta_omega2) \n",
    "H_d1 = make_H_d(Omega=omega1, V_0=V1,delta_omega=delta_omega1,s=s,phi=phi1)\n",
    "H_d2 = make_H_d(Omega=omega2, V_0=V2,delta_omega=delta_omega2,s=s,phi=phi2)\n",
    "def H(t):\n",
    "    return H_int(t)+H_d1(t)+H_d2(t)"
   ],
   "metadata": {
    "collapsed": false,
    "ExecuteTime": {
     "end_time": "2023-12-07T00:27:25.305403Z",
     "start_time": "2023-12-07T00:27:25.294445Z"
    }
   },
   "id": "f36904edb982b282"
  },
  {
   "cell_type": "code",
   "execution_count": 19,
   "outputs": [],
   "source": [
    "U = make_U(H, time_step=1e-4)"
   ],
   "metadata": {
    "collapsed": false,
    "ExecuteTime": {
     "end_time": "2023-12-07T00:27:37.227187Z",
     "start_time": "2023-12-07T00:27:37.215269Z"
    }
   },
   "id": "586da179c863d67b"
  },
  {
   "cell_type": "code",
   "execution_count": null,
   "outputs": [],
   "source": [],
   "metadata": {
    "collapsed": false
   },
   "id": "4cd23f734342301b"
  },
  {
   "cell_type": "code",
   "execution_count": 20,
   "outputs": [
    {
     "ename": "ValueError",
     "evalue": "operands could not be broadcast together with shapes (4,4) (2,2) ",
     "output_type": "error",
     "traceback": [
      "\u001B[0;31m---------------------------------------------------------------------------\u001B[0m",
      "\u001B[0;31mValueError\u001B[0m                                Traceback (most recent call last)",
      "Cell \u001B[0;32mIn[20], line 1\u001B[0m\n\u001B[0;32m----> 1\u001B[0m transition, info \u001B[38;5;241m=\u001B[39m U(\u001B[38;5;241m10.\u001B[39m)\n",
      "Cell \u001B[0;32mIn[3], line 17\u001B[0m, in \u001B[0;36mmake_U.<locals>.U\u001B[0;34m(t)\u001B[0m\n\u001B[1;32m     15\u001B[0m times \u001B[38;5;241m=\u001B[39m np\u001B[38;5;241m.\u001B[39marange(start\u001B[38;5;241m=\u001B[39m\u001B[38;5;241m0\u001B[39m,stop\u001B[38;5;241m=\u001B[39mt,step\u001B[38;5;241m=\u001B[39mtime_step)\n\u001B[1;32m     16\u001B[0m \u001B[38;5;28;01mfor\u001B[39;00m time \u001B[38;5;129;01min\u001B[39;00m times:\n\u001B[0;32m---> 17\u001B[0m     derivative \u001B[38;5;241m=\u001B[39m (\u001B[38;5;241m-\u001B[39m\u001B[38;5;241m1\u001B[39mj\u001B[38;5;241m/\u001B[39mhbar)\u001B[38;5;241m*\u001B[39mnp\u001B[38;5;241m.\u001B[39mmatmul(H(time),total)\u001B[38;5;241m*\u001B[39mtime_step\n\u001B[1;32m     18\u001B[0m     total \u001B[38;5;241m=\u001B[39m total \u001B[38;5;241m+\u001B[39m derivative\n\u001B[1;32m     19\u001B[0m     check\u001B[38;5;241m.\u001B[39mappend(total) \n",
      "Cell \u001B[0;32mIn[17], line 5\u001B[0m, in \u001B[0;36mH\u001B[0;34m(t)\u001B[0m\n\u001B[1;32m      4\u001B[0m \u001B[38;5;28;01mdef\u001B[39;00m \u001B[38;5;21mH\u001B[39m(t):\n\u001B[0;32m----> 5\u001B[0m     \u001B[38;5;28;01mreturn\u001B[39;00m H_int(t)\u001B[38;5;241m+\u001B[39mH_d1(t)\u001B[38;5;241m+\u001B[39mH_d2(t)\n",
      "\u001B[0;31mValueError\u001B[0m: operands could not be broadcast together with shapes (4,4) (2,2) "
     ]
    }
   ],
   "source": [
    "transition, info = U(10.)"
   ],
   "metadata": {
    "collapsed": false,
    "ExecuteTime": {
     "end_time": "2023-12-07T00:27:37.637329Z",
     "start_time": "2023-12-07T00:27:37.619060Z"
    }
   },
   "id": "2b135f0461b55d"
  },
  {
   "cell_type": "code",
   "execution_count": 171,
   "outputs": [],
   "source": [
    "unitary_check=np.matmul(np.matrix.getH(transition),transition)"
   ],
   "metadata": {
    "collapsed": false,
    "ExecuteTime": {
     "end_time": "2023-12-05T20:16:55.020150Z",
     "start_time": "2023-12-05T20:16:55.016893Z"
    }
   },
   "id": "88166d94748ae3b"
  },
  {
   "cell_type": "code",
   "execution_count": 172,
   "outputs": [],
   "source": [
    "#prepare qubit 1 in e \n",
    "initial_state = np.array([0,0,1.,0,], dtype=\"complex128\")"
   ],
   "metadata": {
    "collapsed": false,
    "ExecuteTime": {
     "end_time": "2023-12-05T20:16:55.020408Z",
     "start_time": "2023-12-05T20:16:55.018927Z"
    }
   },
   "id": "e6daa347ed839f8f"
  },
  {
   "cell_type": "code",
   "execution_count": 173,
   "outputs": [],
   "source": [
    "state_history=[]\n",
    "for trans in info:\n",
    "    tran_state=np.matmul(trans,initial_state)\n",
    "    state_history.append(tran_state)\n",
    "    "
   ],
   "metadata": {
    "collapsed": false,
    "ExecuteTime": {
     "end_time": "2023-12-05T20:16:55.135468Z",
     "start_time": "2023-12-05T20:16:55.076761Z"
    }
   },
   "id": "cef7d99de05e928a"
  },
  {
   "cell_type": "code",
   "execution_count": 174,
   "outputs": [
    {
     "data": {
      "text/plain": "<Figure size 640x480 with 1 Axes>",
      "image/png": "[encoded data removed]"
     },
     "metadata": {},
     "output_type": "display_data"
    }
   ],
   "source": [
    "fig, ax = plt.subplots()\n",
    "ax.set_title(\"two qubit exchanging population\")\n",
    "ax.plot(np.arange(start=0,stop=10.+1e-4,step=1e-4),[np.abs(s[2])**2 for s in state_history],label=\"P_10\")\n",
    "ax.plot(np.arange(start=0,stop=10.+1e-4,step=1e-4),[np.abs(s[1])**2 for s in state_history],label=\"P_01\")\n",
    "ax.set_xlabel(\"t(ns)\")\n",
    "plt.legend()\n",
    "plt.show()"
   ],
   "metadata": {
    "collapsed": false,
    "ExecuteTime": {
     "end_time": "2023-12-05T20:16:55.556807Z",
     "start_time": "2023-12-05T20:16:55.297318Z"
    }
   },
   "id": "eced5cb2922a6e10"
  },
  {
   "cell_type": "code",
   "execution_count": 175,
   "outputs": [],
   "source": [
    "trans_state=np.matmul(transition,initial_state)"
   ],
   "metadata": {
    "collapsed": false,
    "ExecuteTime": {
     "end_time": "2023-12-05T20:16:55.558659Z",
     "start_time": "2023-12-05T20:16:55.557019Z"
    }
   },
   "id": "cefcafbd8acf47ca"
  },
  {
   "cell_type": "code",
   "execution_count": 175,
   "outputs": [],
   "source": [],
   "metadata": {
    "collapsed": false,
    "ExecuteTime": {
     "end_time": "2023-12-05T20:16:56.034931Z",
     "start_time": "2023-12-05T20:16:56.032474Z"
    }
   },
   "id": "8da8ab4237116069"
  },
  {
   "cell_type": "code",
   "execution_count": 120,
   "outputs": [],
   "source": [],
   "metadata": {
    "collapsed": false,
    "ExecuteTime": {
     "end_time": "2023-12-05T20:07:03.781855Z",
     "start_time": "2023-12-05T20:07:03.765591Z"
    }
   },
   "id": "624314db1a605a25"
  },
  {
   "cell_type": "code",
   "execution_count": null,
   "outputs": [],
   "source": [],
   "metadata": {
    "collapsed": false
   },
   "id": "b7edf8a6e43c6b44"
  }
 ],
 "metadata": {
  "kernelspec": {
   "display_name": "Python 3",
   "language": "python",
   "name": "python3"
  },
  "language_info": {
   "codemirror_mode": {
    "name": "ipython",
    "version": 2
   },
   "file_extension": ".py",
   "mimetype": "text/x-python",
   "name": "python",
   "nbconvert_exporter": "python",
   "pygments_lexer": "ipython2",
   "version": "2.7.6"
  }
 },
 "nbformat": 4,
 "nbformat_minor": 5
}
