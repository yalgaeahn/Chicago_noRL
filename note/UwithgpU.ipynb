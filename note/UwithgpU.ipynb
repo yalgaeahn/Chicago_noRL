{
 "cells": [
  {
   "cell_type": "code",
   "execution_count": 4,
   "outputs": [],
   "source": [
    "import numpy as np\n",
    "import matplotlib.pyplot as plt\n",
    "import qutip\n",
    "%matplotlib notebook\n",
    "from scipy.signal.windows import dpss\n",
    "from scipy.interpolate import interp1d\n",
    "import torch"
   ],
   "metadata": {
    "collapsed": false,
    "ExecuteTime": {
     "end_time": "2023-12-08T16:28:24.468761Z",
     "start_time": "2023-12-08T16:28:24.467054Z"
    }
   },
   "id": "initial_id"
  },
  {
   "cell_type": "code",
   "execution_count": 5,
   "outputs": [],
   "source": [
    "if torch.backends.mps.is_available():\n",
    "    device = torch.device(\"mps\")\n",
    "else:\n",
    "    print (\"MPS device not found.\")"
   ],
   "metadata": {
    "collapsed": false,
    "ExecuteTime": {
     "end_time": "2023-12-08T16:28:24.879448Z",
     "start_time": "2023-12-08T16:28:24.876418Z"
    }
   },
   "id": "32bf351665c1a177"
  },
  {
   "cell_type": "code",
   "execution_count": 6,
   "outputs": [
    {
     "name": "stdout",
     "output_type": "stream",
     "text": [
      "2.1.0.post100\n"
     ]
    }
   ],
   "source": [
    "print(torch.__version__)"
   ],
   "metadata": {
    "collapsed": false,
    "ExecuteTime": {
     "end_time": "2023-12-08T16:28:25.040297Z",
     "start_time": "2023-12-08T16:28:25.037025Z"
    }
   },
   "id": "29ef83d3db9f4844"
  },
  {
   "cell_type": "code",
   "execution_count": 7,
   "outputs": [],
   "source": [
    "def make_U_cuda(H, time_step, device='cuda'):\n",
    "    \"\"\"\n",
    "    Convert the function to utilize PyTorch and run on a GPU.\n",
    "\n",
    "    PARAMETERS\n",
    "        H : Tensor of shape (4,4) representing the time-dependent Hamiltonian\n",
    "        time_step : float, the time step for integration\n",
    "        device : string, the device to run the calculations on ('cuda' for GPU or 'cpu' for CPU)\n",
    "\n",
    "    RETURNS\n",
    "        U : function of t, which computes the unitary time evolution operator U(t)\n",
    "    \"\"\"\n",
    "    hbar = 1.  # Planck's constant (set to 1 for simplicity)\n",
    "    I = torch.eye(4, dtype=torch.complex128, device=device)  # Identity matrix\n",
    "\n",
    "    def U(t):\n",
    "        total = I  # U(t=0)\n",
    "        check = [I]\n",
    "        times = torch.arange(start=0, end=t, step=time_step, device=device)\n",
    "        for time in times:\n",
    "            derivative = (-1j / hbar) * torch.matmul(H(time), total) * time_step\n",
    "            total = total + derivative\n",
    "            check.append(total) \n",
    "        return total, np.array(check)\n",
    "    return U\n"
   ],
   "metadata": {
    "collapsed": false,
    "ExecuteTime": {
     "end_time": "2023-12-08T16:28:25.198398Z",
     "start_time": "2023-12-08T16:28:25.196254Z"
    }
   },
   "id": "718453241c4fc8b7"
  },
  {
   "cell_type": "code",
   "execution_count": 8,
   "outputs": [],
   "source": [
    "def make_H_int(g,delta_omega):\n",
    "    \"\"\"\n",
    "    \n",
    "    :param g: coupling strength\n",
    "    :param detuning: omega_q1 - omega_q2\n",
    "    :return: \n",
    "    \"\"\"\n",
    "    def H_int(t):\n",
    "        matrix=np.zeros((4,4),dtype=torch.complex128)\n",
    "        matrix[2][1] = np.exp((1j)*delta_omega*t)\n",
    "        matrix[1][2] = np.exp((-1j)*delta_omega*t)\n",
    "        return g(t)*matrix\n",
    "    return H_int"
   ],
   "metadata": {
    "collapsed": false,
    "ExecuteTime": {
     "end_time": "2023-12-08T16:28:25.348849Z",
     "start_time": "2023-12-08T16:28:25.346623Z"
    }
   },
   "id": "542e2c948c010120"
  },
  {
   "cell_type": "code",
   "execution_count": 9,
   "outputs": [],
   "source": [
    "def make_H_d1(Omega,V_0,delta_omega,phi,s):\n",
    "    \"\"\"\n",
    "    :param Omega:  \n",
    "    :param V_0: \n",
    "    :param delta_omega:omega_q - omega_d \n",
    "    :param phi: offset in driving sine wave\n",
    "    :param s: control pulse\n",
    "    :return: \n",
    "    \"\"\"\n",
    "    I=np.identity(2,dtype=complex)\n",
    "\n",
    "    def H(t):\n",
    "        matrix=torch.tensor((2,2),device=device,dtype=torch.complex64)\n",
    "        matrix[0][1]=np.exp((1j)*(delta_omega*t+phi))\n",
    "        matrix[1][0]=np.exp((-1j)*(delta_omega*t+phi))\n",
    "    \n",
    "        return (-0.5)*Omega*V_0*s(t)*np.kron(matrix,I)\n",
    "    \n",
    "    return H #4by4 matrix"
   ],
   "metadata": {
    "collapsed": false,
    "ExecuteTime": {
     "end_time": "2023-12-08T16:28:26.190277Z",
     "start_time": "2023-12-08T16:28:26.186664Z"
    }
   },
   "id": "b20ae6471f14095b"
  },
  {
   "cell_type": "code",
   "execution_count": 10,
   "outputs": [
    {
     "ename": "TypeError",
     "evalue": "ones() received an invalid combination of arguments - got (tuple, dtype=builtin_function_or_method, device=torch.device), but expected one of:\n * (tuple of ints size, *, tuple of names names, torch.dtype dtype, torch.layout layout, torch.device device, bool pin_memory, bool requires_grad)\n * (tuple of ints size, *, Tensor out, torch.dtype dtype, torch.layout layout, torch.device device, bool pin_memory, bool requires_grad)\n",
     "output_type": "error",
     "traceback": [
      "\u001B[0;31m---------------------------------------------------------------------------\u001B[0m",
      "\u001B[0;31mTypeError\u001B[0m                                 Traceback (most recent call last)",
      "Cell \u001B[0;32mIn[10], line 1\u001B[0m\n\u001B[0;32m----> 1\u001B[0m matrix\u001B[38;5;241m=\u001B[39mtorch\u001B[38;5;241m.\u001B[39mones((\u001B[38;5;241m2\u001B[39m,\u001B[38;5;241m2\u001B[39m),device\u001B[38;5;241m=\u001B[39mdevice,dtype\u001B[38;5;241m=\u001B[39mtorch\u001B[38;5;241m.\u001B[39mcomplex)\n",
      "\u001B[0;31mTypeError\u001B[0m: ones() received an invalid combination of arguments - got (tuple, dtype=builtin_function_or_method, device=torch.device), but expected one of:\n * (tuple of ints size, *, tuple of names names, torch.dtype dtype, torch.layout layout, torch.device device, bool pin_memory, bool requires_grad)\n * (tuple of ints size, *, Tensor out, torch.dtype dtype, torch.layout layout, torch.device device, bool pin_memory, bool requires_grad)\n"
     ]
    }
   ],
   "source": [
    "matrix=torch.ones((2,2),device=device,dtype=torch.complex)"
   ],
   "metadata": {
    "collapsed": false,
    "ExecuteTime": {
     "end_time": "2023-12-08T16:28:26.767223Z",
     "start_time": "2023-12-08T16:28:26.626250Z"
    }
   },
   "id": "85a299cedffb651"
  },
  {
   "cell_type": "code",
   "execution_count": 11,
   "outputs": [],
   "source": [
    "def make_H_d2(Omega,V_0,delta_omega,phi,s):\n",
    "    \"\"\"\n",
    "    :param Omega:  \n",
    "    :param V_0: \n",
    "    :param delta_omega:omega_q - omega_d \n",
    "    :param phi: offset in driving sine wave\n",
    "    :param s: control pulse\n",
    "    :return: \n",
    "    \"\"\"\n",
    "    I=np.identity(2,dtype=complex)\n",
    "    \n",
    "    def H(t):\n",
    "        matrix=np.zeros((2,2),dtype='complex128')\n",
    "        matrix[0][1]=np.exp((1j)*(delta_omega*t+phi))\n",
    "        matrix[1][0]=np.exp((-1j)*(delta_omega*t+phi))\n",
    "    \n",
    "        return (-0.5)*Omega*V_0*s(t)*np.kron(I,matrix)\n",
    "    \n",
    "    return H #4by4 matrix"
   ],
   "metadata": {
    "collapsed": false,
    "ExecuteTime": {
     "end_time": "2023-12-08T16:28:26.940659Z",
     "start_time": "2023-12-08T16:28:26.937296Z"
    }
   },
   "id": "9add191151bd40e2"
  },
  {
   "cell_type": "code",
   "execution_count": 12,
   "outputs": [],
   "source": [
    "def g(t):\n",
    "    return 0.04*2*np.pi \n",
    "# 40MHz"
   ],
   "metadata": {
    "collapsed": false,
    "ExecuteTime": {
     "end_time": "2023-12-08T16:28:27.111468Z",
     "start_time": "2023-12-08T16:28:27.107176Z"
    }
   },
   "id": "bd3846979ebc15a7"
  },
  {
   "cell_type": "code",
   "execution_count": null,
   "outputs": [],
   "source": [
    "def s(t):\n",
    "    return 1"
   ],
   "metadata": {
    "collapsed": false
   },
   "id": "88a499035ddc46dd"
  },
  {
   "cell_type": "code",
   "execution_count": null,
   "outputs": [],
   "source": [
    "def slepian(t):\n",
    "    Fs = 10 #sampling rate 1ns에 10번 \n",
    "    N = 500\n",
    "    time = np.arange(N+1)/Fs \n",
    "    #freq = np.fft.fftfreq(N+1,d=1/Fs)\n",
    "    NW = 6    # Time-halfbandwidth product\n",
    "    # Generating the Slepian sequences\n",
    "    slepian_sequence = dpss(N+1, NW)\n",
    "    slepian_continuous = interp1d(time, slepian_sequence, kind='cubic')\n",
    "    return slepian_continuous(t)"
   ],
   "metadata": {
    "collapsed": false
   },
   "id": "b343016ce2fa41df"
  },
  {
   "cell_type": "code",
   "execution_count": null,
   "outputs": [],
   "source": [
    "Fs = 10 #sampling rate 1ns에 10번 \n",
    "N = 500\n",
    "time = np.arange(N+1)/Fs \n",
    "    #freq = np.fft.fftfreq(N+1,d=1/Fs)\n",
    "NW =  3   # Time-halfbandwidth product\n",
    "    # Generating the Slepian sequences\n",
    "slepian_sequence = dpss(N+1, NW)\n",
    "slepian_sequence2 = dpss(N+1, 6)\n",
    "fig, ax = plt.subplots()\n",
    "ax.plot(slepian_sequence)\n",
    "ax.plot(slepian_sequence2)"
   ],
   "metadata": {
    "collapsed": false
   },
   "id": "d52ea56db17f31c3"
  },
  {
   "cell_type": "code",
   "execution_count": null,
   "outputs": [],
   "source": [
    "#Setting\n",
    "omega1 = 0.01 * 2 * np.pi #10MHz\n",
    "omega2 = 0.01 * 2 * np.pi #10MHz\n",
    "V1=1.\n",
    "V2=1. #unit?\n",
    "delta_omega1 = 0.001 * 2 * np.pi #1MHz #qubit frequency and driving frequency\n",
    "delta_omega2 = 0.001 * 2 * np.pi #1MHz\n",
    "delta_q12 = 1 * 2 * np.pi # 1GHz\n",
    "phi1 = 0.001\n",
    "phi2 = 0.001"
   ],
   "metadata": {
    "collapsed": false
   },
   "id": "6be19978740e9cfa"
  },
  {
   "cell_type": "code",
   "execution_count": null,
   "outputs": [],
   "source": [
    "H_int = make_H_int(g=g,delta_omega=delta_omega2) \n",
    "H_d1 = make_H_d1(Omega=omega1, V_0=V1,delta_omega=delta_omega1,s=slepian,phi=phi1)\n",
    "H_d2 = make_H_d2(Omega=omega2, V_0=V2,delta_omega=delta_omega2,s=slepian,phi=phi2)\n",
    "def H(t):\n",
    "    return H_int(t)+H_d1(t)+H_d2(t)"
   ],
   "metadata": {
    "collapsed": false
   },
   "id": "9b3f01420ab73855"
  },
  {
   "cell_type": "code",
   "execution_count": null,
   "outputs": [],
   "source": [
    "U = make_U(H, time_step=1e-4)"
   ],
   "metadata": {
    "collapsed": false
   },
   "id": "586da179c863d67b"
  },
  {
   "cell_type": "code",
   "execution_count": null,
   "outputs": [],
   "source": [
    "Uhigh = make_U(H, time_step=1e-5)"
   ],
   "metadata": {
    "collapsed": false
   },
   "id": "f5504cafd83f15ff"
  },
  {
   "cell_type": "code",
   "execution_count": null,
   "outputs": [],
   "source": [
    "transition, info = U(50.) #한번 돌리는데 4분30초...GPU로 계산하면 더 빠른가?"
   ],
   "metadata": {
    "collapsed": false
   },
   "id": "2b135f0461b55d"
  },
  {
   "cell_type": "code",
   "execution_count": null,
   "outputs": [],
   "source": [
    "transition2, info2 = Uhigh(50.)"
   ],
   "metadata": {
    "collapsed": false,
    "is_executing": true
   },
   "id": "3cf66ad789534d34"
  },
  {
   "cell_type": "code",
   "execution_count": null,
   "outputs": [],
   "source": [
    "np.save('1e-4_info.npy',info)"
   ],
   "metadata": {
    "collapsed": false
   },
   "id": "35638968121f626a"
  },
  {
   "cell_type": "code",
   "execution_count": null,
   "outputs": [],
   "source": [
    "trajectories=[]\n",
    "fig, ax = plt.subplots()\n",
    "ax.plot(np.arange(start=0,stop=50.+1e-4,step=1e-4),[u[1,0] for u in info])\n",
    "    "
   ],
   "metadata": {
    "collapsed": false
   },
   "id": "d02a90c75f3008c8"
  },
  {
   "cell_type": "code",
   "execution_count": null,
   "outputs": [],
   "source": [
    "unitary_check=np.matmul(np.matrix.getH(transition),transition)\n",
    "unitary_check"
   ],
   "metadata": {
    "collapsed": false
   },
   "id": "88166d94748ae3b"
  },
  {
   "cell_type": "code",
   "execution_count": null,
   "outputs": [],
   "source": [
    "#prepare qubit 1 in e \n",
    "initial_state = np.array([0,0,1.,0,], dtype=complex)\n",
    "desired_state = np.array([0,1.,0,0,], dtype=complex)\n",
    "\n",
    "iSWAP=np.zeros((4,4),dtype=complex)\n",
    "iSWAP[0,0]=1.\n",
    "iSWAP[3,3]=1.\n",
    "iSWAP[2,1]=-1j\n",
    "iSWAP[1,2]=-1j\n"
   ],
   "metadata": {
    "collapsed": false
   },
   "id": "e6daa347ed839f8f"
  },
  {
   "cell_type": "code",
   "execution_count": null,
   "outputs": [],
   "source": [
    "trans_state=np.matmul(iSWAP,initial_state)\n",
    "np.matmul(np.matrix.getH(desired_state),trans_state)"
   ],
   "metadata": {
    "collapsed": false
   },
   "id": "cefcafbd8acf47ca"
  },
  {
   "cell_type": "markdown",
   "source": [
    "$$s_1(t),\\ s_2(t), g(t)$$\n",
    "\n"
   ],
   "metadata": {
    "collapsed": false
   },
   "id": "99aeae190f40d3b1"
  },
  {
   "cell_type": "code",
   "execution_count": null,
   "outputs": [],
   "source": [
    "np.matrix.getH(desired_state)"
   ],
   "metadata": {
    "collapsed": false
   },
   "id": "f0b4ac664b874bad"
  },
  {
   "cell_type": "code",
   "execution_count": null,
   "outputs": [],
   "source": [
    "trans_state"
   ],
   "metadata": {
    "collapsed": false
   },
   "id": "8bbb60f88f35a24d"
  },
  {
   "cell_type": "code",
   "execution_count": null,
   "outputs": [],
   "source": [],
   "metadata": {
    "collapsed": false
   },
   "id": "502c6d04ccc86a00"
  }
 ],
 "metadata": {
  "kernelspec": {
   "display_name": "Python 3",
   "language": "python",
   "name": "python3"
  },
  "language_info": {
   "codemirror_mode": {
    "name": "ipython",
    "version": 2
   },
   "file_extension": ".py",
   "mimetype": "text/x-python",
   "name": "python",
   "nbconvert_exporter": "python",
   "pygments_lexer": "ipython2",
   "version": "2.7.6"
  }
 },
 "nbformat": 4,
 "nbformat_minor": 5
}
