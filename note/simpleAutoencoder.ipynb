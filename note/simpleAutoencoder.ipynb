{
 "cells": [
  {
   "cell_type": "code",
   "execution_count": 1,
   "id": "initial_id",
   "metadata": {
    "collapsed": true,
    "ExecuteTime": {
     "end_time": "2023-12-07T17:04:11.814997Z",
     "start_time": "2023-12-07T17:04:10.630942Z"
    }
   },
   "outputs": [],
   "source": [
    "import torch\n",
    "import torch.nn as nn\n",
    "import torch.optim as optim\n",
    "import matplotlib.pyplot as plt\n",
    "%matplotlib notebook"
   ]
  },
  {
   "cell_type": "raw",
   "source": [
    "len(s1(t))=len(s2(t))=len(g(t))=300\n",
    "input_dim = 900 \n",
    "I will try this first"
   ],
   "metadata": {
    "collapsed": false
   },
   "id": "794219767373618d"
  },
  {
   "cell_type": "code",
   "execution_count": 6,
   "outputs": [],
   "source": [
    "class Autoencoder(nn.Module):\n",
    "    def __init__(self):\n",
    "        super().__init__()\n",
    "        # N=batch_size, dim=input_dim\n",
    "        self.encoder = nn.Sequential(\n",
    "            nn.Linear(300*3,30), #N,900 ->N,30\n",
    "            nn.ReLU(),\n",
    "        )\n",
    "        \n",
    "        self.decoder = nn.Sequential(\n",
    "            nn.Linear(30,300*3),\n",
    "            nn.ReLU(),\n",
    "        )\n",
    "    \n",
    "    def forward(self, x):\n",
    "        encoded = self.encoder(x)\n",
    "        decoded = self.decoder(encoded)\n",
    "        return decoded "
   ],
   "metadata": {
    "collapsed": false,
    "ExecuteTime": {
     "end_time": "2023-12-07T19:45:07.243642Z",
     "start_time": "2023-12-07T19:45:07.240989Z"
    }
   },
   "id": "518e1bb2f272179e"
  },
  {
   "cell_type": "code",
   "execution_count": 9,
   "outputs": [],
   "source": [
    "model = Autoencoder()\n",
    "criterion = nn.MSELoss()\n",
    "optimizer = optim.Adam(model.parameters())"
   ],
   "metadata": {
    "collapsed": false,
    "ExecuteTime": {
     "end_time": "2023-12-07T19:45:33.729536Z",
     "start_time": "2023-12-07T19:45:33.511355Z"
    }
   },
   "id": "af8b5d8277204216"
  },
  {
   "cell_type": "code",
   "execution_count": 14,
   "outputs": [
    {
     "data": {
      "text/plain": "<bound method Module.parameters of Autoencoder(\n  (encoder): Sequential(\n    (0): Linear(in_features=900, out_features=30, bias=True)\n    (1): ReLU()\n  )\n  (decoder): Sequential(\n    (0): Linear(in_features=30, out_features=900, bias=True)\n    (1): ReLU()\n  )\n)>"
     },
     "execution_count": 14,
     "metadata": {},
     "output_type": "execute_result"
    }
   ],
   "source": [
    "model.parameters"
   ],
   "metadata": {
    "collapsed": false,
    "ExecuteTime": {
     "end_time": "2023-12-07T19:48:17.746294Z",
     "start_time": "2023-12-07T19:48:17.741694Z"
    }
   },
   "id": "325cbcef1cbe371f"
  },
  {
   "cell_type": "code",
   "execution_count": 15,
   "outputs": [],
   "source": [
    "a=model.parameters()"
   ],
   "metadata": {
    "collapsed": false,
    "ExecuteTime": {
     "end_time": "2023-12-07T19:52:06.862908Z",
     "start_time": "2023-12-07T19:52:06.858958Z"
    }
   },
   "id": "21ba9a9d580cf60"
  }
 ],
 "metadata": {
  "kernelspec": {
   "display_name": "Python 3",
   "language": "python",
   "name": "python3"
  },
  "language_info": {
   "codemirror_mode": {
    "name": "ipython",
    "version": 2
   },
   "file_extension": ".py",
   "mimetype": "text/x-python",
   "name": "python",
   "nbconvert_exporter": "python",
   "pygments_lexer": "ipython2",
   "version": "2.7.6"
  }
 },
 "nbformat": 4,
 "nbformat_minor": 5
}
