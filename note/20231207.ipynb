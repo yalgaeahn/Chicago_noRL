{
 "cells": [
  {
   "cell_type": "code",
   "execution_count": 3,
   "outputs": [],
   "source": [
    "import numpy as np\n",
    "import matplotlib.pyplot as plt\n",
    "import qutip\n",
    "from scipy.signal.windows import dpss\n",
    "from scipy.interpolate import interp1d"
   ],
   "metadata": {
    "collapsed": false,
    "ExecuteTime": {
     "end_time": "2023-12-08T20:58:26.048049Z",
     "start_time": "2023-12-08T20:58:26.044268Z"
    }
   },
   "id": "initial_id"
  },
  {
   "cell_type": "markdown",
   "source": [
    "Two fixed frequency qubit coupled via tunable coupler ($w_{q1}-w_{q2}=constant$)\n",
    "(All qubit are assumed as a perfect two level system)\n",
    "## Let's make iSWAP\n",
    "$$U_{iSWAP}=\\begin{bmatrix}\n",
    "1 & 0 & 0 & 0\\\\\n",
    "0 & 0 & -i & 0 \\\\\n",
    "0 & -i & 0 & 0 \\\\\n",
    "0 & 0 & 0 & 1\n",
    "\\end{bmatrix}$$\n",
    "\n",
    "from $|10>$ state to $|01> $\n",
    "\n",
    "$$\\tilde{H}(t)=g(t) \n",
    "\\begin{bmatrix}\n",
    "0 & 0 & 0 & 0\\\\\n",
    "0 & 0 & e^{-i\\delta \\omega_{12}t} & 0 \\\\\n",
    "0 & e^{i\\delta \\omega_{12}t} & 0 & 0 \\\\\n",
    "0 & 0 & 0 & 0\n",
    "\\end{bmatrix}\n",
    "\n",
    "-\\frac{\\Omega_1}{2}V_1S_1(t)\n",
    "\\begin{bmatrix}\n",
    "0 & 0 & e^{i(\\delta \\omega_{1d}t + \\phi_1)} & 0\\\\\n",
    "0 & 0 & 0 & e^{i(\\delta \\omega_{1d}t + \\phi_1)} \\\\\n",
    "e^{-i(\\delta \\omega_{1d}t + \\phi_1)} & 0 & 0 & 0 \\\\\n",
    "0 & e^{-i(\\delta \\omega_{1d}t + \\phi_1)} & 0 & 0\n",
    "\\end{bmatrix}\n",
    "\n",
    "-\\frac{\\Omega_2}{2}V_2S_2(t)\n",
    "\\begin{bmatrix}\n",
    "0 & e^{i(\\delta \\omega_{2d}t + \\phi_2)}& 0 & 0\\\\\n",
    "e^{-i(\\delta \\omega_{2d}t + \\phi_2)} & 0 & 0 & 0 \\\\\n",
    "0 & 0 & 0 & e^{i(\\delta \\omega_{2d}t + \\phi_2)}\\\\\n",
    "0 & 0 & e^{-i(\\delta \\omega_{2d}t + \\phi_2)} & 0\n",
    "\\end{bmatrix}$$\n"
   ],
   "metadata": {
    "collapsed": false
   },
   "id": "eeabdaa9530867fb"
  },
  {
   "cell_type": "markdown",
   "source": [
    "# Setting\n",
    "\n",
    "### Rabi oscillation frequency $\\Omega$\n",
    "\n",
    "$\\Omega_1/(2\\pi)=0.01$(10MHz)\n",
    "$\\Omega_2/(2\\pi)=0.01$(10MHz)\n",
    "\n",
    "### Qubit frequency difference $\\delta \\omega_{12}$\n",
    "얘네가 문제임 Z line으로 control 가능하게 해야 realistic 한데\n",
    "\n",
    "### Detuning $\\delta \\omega_{1}$, $\\delta \\omega_{2}$\n",
    "$\\delta \\omega=\\omega_q -\\omega_d$\n",
    "\n",
    "\n",
    "### g\n",
    "$g/(2\\pi)$=\n",
    "\n",
    "### Anharmonicty $\\eta$\n",
    "$\\eta/(2\\pi)=0$ 아직 추가안함\n",
    "\n",
    "\n",
    "\n"
   ],
   "metadata": {
    "collapsed": false
   },
   "id": "2cd76ed8a0540aeb"
  },
  {
   "cell_type": "code",
   "execution_count": 4,
   "outputs": [],
   "source": [
    "def make_U(H, time_step):\n",
    "    \"\"\"\n",
    "    PARAMETER\n",
    "        Hamiltonian : function of t\n",
    "        time_step : float\n",
    "    RETURNS\n",
    "        U : function of t\n",
    "    \"\"\"\n",
    "    hbar = 1.\n",
    "    I = np.identity(4,dtype=\"complex128\")\n",
    "    \n",
    "    def U(t):\n",
    "        total = I #U(t=0)\n",
    "        check = [I]\n",
    "        times = np.arange(start=0,stop=t,step=time_step)\n",
    "        for time in times:\n",
    "            derivative = (-1j/hbar)*np.matmul(H(time),total)*time_step\n",
    "            total = total + derivative\n",
    "            check.append(total) \n",
    "        return total, np.array(check)\n",
    "    return U"
   ],
   "metadata": {
    "collapsed": false,
    "ExecuteTime": {
     "end_time": "2023-12-08T20:58:27.226019Z",
     "start_time": "2023-12-08T20:58:27.223695Z"
    }
   },
   "id": "46726427f8a1e49d"
  },
  {
   "cell_type": "code",
   "execution_count": 5,
   "outputs": [],
   "source": [
    "def make_H_int(g,delta_omega):\n",
    "    \"\"\"\n",
    "    \n",
    "    :param g: coupling strength\n",
    "    :param detuning: omega_q1 - omega_q2\n",
    "    :return: \n",
    "    \"\"\"\n",
    "    def H_int(t):\n",
    "        matrix=np.zeros((4,4),dtype=\"complex128\")\n",
    "        matrix[2][1] = np.exp((1j)*delta_omega*t)\n",
    "        matrix[1][2] = np.exp((-1j)*delta_omega*t)\n",
    "        return g(t)*matrix\n",
    "    return H_int"
   ],
   "metadata": {
    "collapsed": false,
    "ExecuteTime": {
     "end_time": "2023-12-08T20:58:27.909647Z",
     "start_time": "2023-12-08T20:58:27.905917Z"
    }
   },
   "id": "542e2c948c010120"
  },
  {
   "cell_type": "code",
   "execution_count": 6,
   "outputs": [],
   "source": [
    "def make_H_d1(Omega,V_0,delta_omega,phi,s):\n",
    "    \"\"\"\n",
    "    :param Omega:  \n",
    "    :param V_0: \n",
    "    :param delta_omega:omega_q - omega_d \n",
    "    :param phi: offset in driving sine wave\n",
    "    :param s: control pulse\n",
    "    :return: \n",
    "    \"\"\"\n",
    "    I=np.identity(2,dtype=complex)\n",
    "\n",
    "    def H(t):\n",
    "        matrix=np.zeros((2,2),dtype=complex)\n",
    "        matrix[0][1]=np.exp((1j)*(delta_omega*t+phi))\n",
    "        matrix[1][0]=np.exp((-1j)*(delta_omega*t+phi))\n",
    "    \n",
    "        return (-0.5)*Omega*V_0*s(t)*np.kron(matrix,I)\n",
    "    \n",
    "    return H #4by4 matrix"
   ],
   "metadata": {
    "collapsed": false,
    "ExecuteTime": {
     "end_time": "2023-12-08T20:58:34.600580Z",
     "start_time": "2023-12-08T20:58:34.593796Z"
    }
   },
   "id": "b20ae6471f14095b"
  },
  {
   "cell_type": "code",
   "execution_count": 8,
   "outputs": [],
   "source": [
    "def make_H_d2(Omega,V_0,delta_omega,phi,s):\n",
    "    \"\"\"\n",
    "    :param Omega:  \n",
    "    :param V_0: \n",
    "    :param delta_omega:omega_q - omega_d \n",
    "    :param phi: offset in driving sine wave\n",
    "    :param s: control pulse\n",
    "    :return: \n",
    "    \"\"\"\n",
    "    I=np.identity(2,dtype=complex)\n",
    "    \n",
    "    def H(t):\n",
    "        matrix=np.zeros((2,2),dtype='complex128')\n",
    "        matrix[0][1]=np.exp((1j)*(delta_omega*t+phi))\n",
    "        matrix[1][0]=np.exp((-1j)*(delta_omega*t+phi))\n",
    "    \n",
    "        return (-0.5)*Omega*V_0*s(t)*np.kron(I,matrix)\n",
    "    \n",
    "    return H #4by4 matrix"
   ],
   "metadata": {
    "collapsed": false,
    "ExecuteTime": {
     "end_time": "2023-12-08T20:58:46.701469Z",
     "start_time": "2023-12-08T20:58:46.694556Z"
    }
   },
   "id": "9add191151bd40e2"
  },
  {
   "cell_type": "code",
   "execution_count": 9,
   "outputs": [],
   "source": [
    "def g(t):\n",
    "    return 0.04*2*np.pi \n",
    "# 40MHz"
   ],
   "metadata": {
    "collapsed": false,
    "ExecuteTime": {
     "end_time": "2023-12-08T20:58:46.914676Z",
     "start_time": "2023-12-08T20:58:46.910567Z"
    }
   },
   "id": "bd3846979ebc15a7"
  },
  {
   "cell_type": "code",
   "execution_count": 10,
   "outputs": [],
   "source": [
    "def slepian(t):\n",
    "    Fs = 10 #sampling rate 1ns에 10번 \n",
    "    N = 500\n",
    "    time = np.arange(N+1)/Fs \n",
    "    #freq = np.fft.fftfreq(N+1,d=1/Fs)\n",
    "    NW = 6    # Time-halfbandwidth product\n",
    "    # Generating the Slepian sequences\n",
    "    slepian_sequence = dpss(N+1, NW)\n",
    "    slepian_continuous = interp1d(time, slepian_sequence, kind='cubic')\n",
    "    return slepian_continuous(t)"
   ],
   "metadata": {
    "collapsed": false,
    "ExecuteTime": {
     "end_time": "2023-12-08T20:58:47.223463Z",
     "start_time": "2023-12-08T20:58:47.219406Z"
    }
   },
   "id": "b343016ce2fa41df"
  },
  {
   "cell_type": "code",
   "execution_count": 11,
   "outputs": [
    {
     "data": {
      "text/plain": "[<matplotlib.lines.Line2D at 0x130354b50>]"
     },
     "execution_count": 11,
     "metadata": {},
     "output_type": "execute_result"
    },
    {
     "data": {
      "text/plain": "<Figure size 640x480 with 1 Axes>",
      "image/png": "[encoded data removed]"
     },
     "metadata": {},
     "output_type": "display_data"
    }
   ],
   "source": [
    "Fs = 10 #sampling rate 1ns에 10번 \n",
    "N = 500\n",
    "time = np.arange(N+1)/Fs \n",
    "    #freq = np.fft.fftfreq(N+1,d=1/Fs)\n",
    "NW =  3   # Time-halfbandwidth product\n",
    "    # Generating the Slepian sequences\n",
    "slepian_sequence = dpss(N+1, NW)\n",
    "slepian_sequence2 = dpss(N+1, 6)\n",
    "fig, ax = plt.subplots()\n",
    "ax.plot(slepian_sequence)\n",
    "ax.plot(slepian_sequence2)"
   ],
   "metadata": {
    "collapsed": false,
    "ExecuteTime": {
     "end_time": "2023-12-08T20:58:48.079315Z",
     "start_time": "2023-12-08T20:58:47.988489Z"
    }
   },
   "id": "d52ea56db17f31c3"
  },
  {
   "cell_type": "code",
   "execution_count": 18,
   "outputs": [
    {
     "data": {
      "text/plain": "501"
     },
     "execution_count": 18,
     "metadata": {},
     "output_type": "execute_result"
    }
   ],
   "source": [
    "len(slepian_sequence2)"
   ],
   "metadata": {
    "collapsed": false,
    "ExecuteTime": {
     "end_time": "2023-12-08T21:05:02.052593Z",
     "start_time": "2023-12-08T21:05:02.045521Z"
    }
   },
   "id": "98f2ca7bf493f0e2"
  },
  {
   "cell_type": "code",
   "execution_count": 12,
   "outputs": [],
   "source": [
    "#Setting\n",
    "omega1 = 0.01 * 2 * np.pi #10MHz\n",
    "omega2 = 0.01 * 2 * np.pi #10MHz\n",
    "V1=1.\n",
    "V2=1. #unit?\n",
    "delta_omega1 = 0.001 * 2 * np.pi #1MHz #qubit frequency and driving frequency\n",
    "delta_omega2 = 0.001 * 2 * np.pi #1MHz\n",
    "delta_q12 = 1 * 2 * np.pi # 1GHz\n",
    "phi1 = 0.001\n",
    "phi2 = 0.001"
   ],
   "metadata": {
    "collapsed": false,
    "ExecuteTime": {
     "end_time": "2023-12-08T20:58:49.240652Z",
     "start_time": "2023-12-08T20:58:49.238067Z"
    }
   },
   "id": "6be19978740e9cfa"
  },
  {
   "cell_type": "code",
   "execution_count": 13,
   "outputs": [],
   "source": [
    "H_int = make_H_int(g=g,delta_omega=delta_omega2) \n",
    "H_d1 = make_H_d1(Omega=omega1, V_0=V1,delta_omega=delta_omega1,s=slepian,phi=phi1)\n",
    "H_d2 = make_H_d2(Omega=omega2, V_0=V2,delta_omega=delta_omega2,s=slepian,phi=phi2)\n",
    "def H(t):\n",
    "    return H_int(t)+H_d1(t)+H_d2(t)"
   ],
   "metadata": {
    "collapsed": false,
    "ExecuteTime": {
     "end_time": "2023-12-08T20:58:53.272235Z",
     "start_time": "2023-12-08T20:58:53.268815Z"
    }
   },
   "id": "9b3f01420ab73855"
  },
  {
   "cell_type": "code",
   "execution_count": 14,
   "outputs": [],
   "source": [
    "U = make_U(H, time_step=1e-4)"
   ],
   "metadata": {
    "collapsed": false,
    "ExecuteTime": {
     "end_time": "2023-12-08T20:58:57.116867Z",
     "start_time": "2023-12-08T20:58:57.108348Z"
    }
   },
   "id": "586da179c863d67b"
  },
  {
   "cell_type": "code",
   "execution_count": 15,
   "outputs": [],
   "source": [
    "Uhigh = make_U(H, time_step=1e-5)"
   ],
   "metadata": {
    "collapsed": false,
    "ExecuteTime": {
     "end_time": "2023-12-08T20:59:02.932031Z",
     "start_time": "2023-12-08T20:59:02.926883Z"
    }
   },
   "id": "f5504cafd83f15ff"
  },
  {
   "cell_type": "code",
   "execution_count": 16,
   "outputs": [],
   "source": [
    "transition, info = U(50.) #한번 돌리는데 4분30초...GPU로 계산하면 더 빠른가?"
   ],
   "metadata": {
    "collapsed": false,
    "ExecuteTime": {
     "end_time": "2023-12-08T21:03:29.165289Z",
     "start_time": "2023-12-08T20:59:09.171696Z"
    }
   },
   "id": "2b135f0461b55d"
  },
  {
   "cell_type": "code",
   "execution_count": 123,
   "outputs": [],
   "source": [
    "transition2, info2 = Uhigh(50.) #47분 미쳤네 "
   ],
   "metadata": {
    "collapsed": false,
    "ExecuteTime": {
     "end_time": "2023-12-07T23:47:42.744108Z",
     "start_time": "2023-12-07T23:00:45.712343Z"
    }
   },
   "id": "3cf66ad789534d34"
  },
  {
   "cell_type": "code",
   "execution_count": null,
   "outputs": [],
   "source": [],
   "metadata": {
    "collapsed": false,
    "ExecuteTime": {
     "end_time": "2023-12-08T20:37:57.959157Z",
     "start_time": "2023-12-08T20:37:57.953839Z"
    }
   },
   "id": "35638968121f626a"
  },
  {
   "cell_type": "code",
   "execution_count": 1,
   "outputs": [
    {
     "ename": "NameError",
     "evalue": "name 'plt' is not defined",
     "output_type": "error",
     "traceback": [
      "\u001B[0;31m---------------------------------------------------------------------------\u001B[0m",
      "\u001B[0;31mNameError\u001B[0m                                 Traceback (most recent call last)",
      "Cell \u001B[0;32mIn[1], line 2\u001B[0m\n\u001B[1;32m      1\u001B[0m trajectories\u001B[38;5;241m=\u001B[39m[]\n\u001B[0;32m----> 2\u001B[0m fig, ax \u001B[38;5;241m=\u001B[39m plt\u001B[38;5;241m.\u001B[39msubplots()\n\u001B[1;32m      3\u001B[0m ax\u001B[38;5;241m.\u001B[39mplot(np\u001B[38;5;241m.\u001B[39marange(start\u001B[38;5;241m=\u001B[39m\u001B[38;5;241m0\u001B[39m,stop\u001B[38;5;241m=\u001B[39m\u001B[38;5;241m50.\u001B[39m\u001B[38;5;241m+\u001B[39m\u001B[38;5;241m1e-4\u001B[39m,step\u001B[38;5;241m=\u001B[39m\u001B[38;5;241m1e-4\u001B[39m),[u[\u001B[38;5;241m1\u001B[39m,\u001B[38;5;241m1\u001B[39m] \u001B[38;5;28;01mfor\u001B[39;00m u \u001B[38;5;129;01min\u001B[39;00m info])\n\u001B[1;32m      4\u001B[0m ax\u001B[38;5;241m.\u001B[39mplot(np\u001B[38;5;241m.\u001B[39marange(start\u001B[38;5;241m=\u001B[39m\u001B[38;5;241m0\u001B[39m,stop\u001B[38;5;241m=\u001B[39m\u001B[38;5;241m50.\u001B[39m\u001B[38;5;241m+\u001B[39m\u001B[38;5;241m1e-5\u001B[39m,step\u001B[38;5;241m=\u001B[39m\u001B[38;5;241m1e-5\u001B[39m),[u[\u001B[38;5;241m1\u001B[39m,\u001B[38;5;241m1\u001B[39m] \u001B[38;5;28;01mfor\u001B[39;00m u \u001B[38;5;129;01min\u001B[39;00m info2])\n",
      "\u001B[0;31mNameError\u001B[0m: name 'plt' is not defined"
     ]
    }
   ],
   "source": [
    "trajectories=[]\n",
    "fig, ax = plt.subplots()\n",
    "ax.plot(np.arange(start=0,stop=50.+1e-4,step=1e-4),[u[1,1] for u in info])\n",
    "ax.plot(np.arange(start=0,stop=50.+1e-5,step=1e-5),[u[1,1] for u in info2])"
   ],
   "metadata": {
    "collapsed": false,
    "ExecuteTime": {
     "end_time": "2023-12-08T20:37:58.128726Z",
     "start_time": "2023-12-08T20:37:57.958126Z"
    }
   },
   "id": "d02a90c75f3008c8"
  },
  {
   "cell_type": "code",
   "execution_count": 54,
   "outputs": [
    {
     "data": {
      "text/plain": "array([[ 1.00000205e+00-2.33624112e-18j, -7.89686301e-06-2.84021164e-07j,\n        -8.19612484e-06-8.00439925e-09j,  1.97198116e-06+7.30184510e-08j],\n       [-7.89686301e-06+2.84021164e-07j,  1.00006516e+00-4.24847323e-18j,\n         1.97271103e-06+6.33177438e-08j, -7.59615085e-06+1.75866218e-08j],\n       [-8.19612484e-06+8.00439925e-09j,  1.97271103e-06-6.33177438e-08j,\n         1.00006512e+00-2.18593786e-18j, -7.87922634e-06-2.83932281e-07j],\n       [ 1.97198116e-06-7.30184510e-08j, -7.59615085e-06-1.75866218e-08j,\n        -7.87922634e-06+2.83932281e-07j,  1.00000190e+00-3.48172935e-19j]])"
     },
     "execution_count": 54,
     "metadata": {},
     "output_type": "execute_result"
    }
   ],
   "source": [
    "unitary_check=np.matmul(np.matrix.getH(transition),transition)\n",
    "unitary_check"
   ],
   "metadata": {
    "collapsed": false,
    "ExecuteTime": {
     "end_time": "2023-12-07T21:14:38.188328Z",
     "start_time": "2023-12-07T21:14:38.186257Z"
    }
   },
   "id": "88166d94748ae3b"
  },
  {
   "cell_type": "code",
   "execution_count": 55,
   "outputs": [],
   "source": [
    "#prepare qubit 1 in e \n",
    "initial_state = np.array([0,0,1.,0,], dtype=complex)\n",
    "desired_state = np.array([0,1.,0,0,], dtype=complex)\n",
    "\n",
    "iSWAP=np.zeros((4,4),dtype=complex)\n",
    "iSWAP[0,0]=1.\n",
    "iSWAP[3,3]=1.\n",
    "iSWAP[2,1]=-1j\n",
    "iSWAP[1,2]=-1j\n"
   ],
   "metadata": {
    "collapsed": false,
    "ExecuteTime": {
     "end_time": "2023-12-07T21:14:38.192641Z",
     "start_time": "2023-12-07T21:14:38.189023Z"
    }
   },
   "id": "e6daa347ed839f8f"
  },
  {
   "cell_type": "code",
   "execution_count": 56,
   "outputs": [
    {
     "data": {
      "text/plain": "-1j"
     },
     "execution_count": 56,
     "metadata": {},
     "output_type": "execute_result"
    }
   ],
   "source": [
    "trans_state=np.matmul(iSWAP,initial_state)\n",
    "np.matmul(np.matrix.getH(desired_state),trans_state)"
   ],
   "metadata": {
    "collapsed": false,
    "ExecuteTime": {
     "end_time": "2023-12-07T21:14:38.193734Z",
     "start_time": "2023-12-07T21:14:38.191888Z"
    }
   },
   "id": "cefcafbd8acf47ca"
  },
  {
   "cell_type": "markdown",
   "source": [
    "$$s_1(t),\\ s_2(t), g(t)$$\n",
    "\n"
   ],
   "metadata": {
    "collapsed": false
   },
   "id": "99aeae190f40d3b1"
  },
  {
   "cell_type": "code",
   "execution_count": 57,
   "outputs": [
    {
     "data": {
      "text/plain": "array([0.-0.j, 1.-0.j, 0.-0.j, 0.-0.j])"
     },
     "execution_count": 57,
     "metadata": {},
     "output_type": "execute_result"
    }
   ],
   "source": [
    "np.matrix.getH(desired_state)"
   ],
   "metadata": {
    "collapsed": false,
    "ExecuteTime": {
     "end_time": "2023-12-07T21:14:38.197528Z",
     "start_time": "2023-12-07T21:14:38.194415Z"
    }
   },
   "id": "f0b4ac664b874bad"
  },
  {
   "cell_type": "code",
   "execution_count": 58,
   "outputs": [
    {
     "data": {
      "text/plain": "array([0.+0.j, 0.-1.j, 0.+0.j, 0.+0.j])"
     },
     "execution_count": 58,
     "metadata": {},
     "output_type": "execute_result"
    }
   ],
   "source": [
    "trans_state"
   ],
   "metadata": {
    "collapsed": false,
    "ExecuteTime": {
     "end_time": "2023-12-07T21:14:38.198844Z",
     "start_time": "2023-12-07T21:14:38.196537Z"
    }
   },
   "id": "8bbb60f88f35a24d"
  },
  {
   "cell_type": "code",
   "execution_count": null,
   "outputs": [],
   "source": [],
   "metadata": {
    "collapsed": false
   },
   "id": "502c6d04ccc86a00"
  }
 ],
 "metadata": {
  "kernelspec": {
   "display_name": "Python 3",
   "language": "python",
   "name": "python3"
  },
  "language_info": {
   "codemirror_mode": {
    "name": "ipython",
    "version": 2
   },
   "file_extension": ".py",
   "mimetype": "text/x-python",
   "name": "python",
   "nbconvert_exporter": "python",
   "pygments_lexer": "ipython2",
   "version": "2.7.6"
  }
 },
 "nbformat": 4,
 "nbformat_minor": 5
}
