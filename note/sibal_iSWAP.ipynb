{
 "cells": [
  {
   "cell_type": "code",
   "execution_count": 69,
   "outputs": [],
   "source": [
    "processor.pulses[0].tlist = np.array([0.1, 0.2, 0.4, 0.5])\n",
    "import numpy as np\n",
    "import matplotlib.pyplot as plt\n",
    "import qutip\n",
    "from scipy.signal.windows import dpss\n",
    "from scipy.interpolate import interp1d"
   ],
   "metadata": {
    "collapsed": false,
    "ExecuteTime": {
     "end_time": "2023-12-08T23:27:11.948544Z",
     "start_time": "2023-12-08T23:27:11.923700Z"
    }
   },
   "id": "initial_id"
  },
  {
   "cell_type": "markdown",
   "source": [
    "Two fixed frequency qubit coupled via tunable coupler ($w_{q1}-w_{q2}=constant$)\n",
    "(All qubit are assumed as a perfect two level system)\n",
    "## Let's make iSWAP\n",
    "$$U_{iSWAP}=\\begin{bmatrix}\n",
    "1 & 0 & 0 & 0\\\\\n",
    "0 & 0 & -i & 0 \\\\\n",
    "0 & -i & 0 & 0 \\\\\n",
    "0 & 0 & 0 & 1\n",
    "\\end{bmatrix}$$\n",
    "\n",
    "from $|10>$ state to $|01> $\n",
    "\n",
    "$$\\tilde{H}(t)=g(t) \n",
    "\\begin{bmatrix}\n",
    "0 & 0 & 0 & 0\\\\\n",
    "0 & 0 & e^{-i\\delta \\omega_{12}t} & 0 \\\\\n",
    "0 & e^{i\\delta \\omega_{12}t} & 0 & 0 \\\\\n",
    "0 & 0 & 0 & 0\n",
    "\\end{bmatrix}\n",
    "\n",
    "-\\frac{\\Omega_1}{2}V_1S_1(t)\n",
    "\\begin{bmatrix}\n",
    "0 & 0 & e^{i(\\delta \\omega_{1d}t + \\phi_1)} & 0\\\\\n",
    "0 & 0 & 0 & e^{i(\\delta \\omega_{1d}t + \\phi_1)} \\\\\n",
    "e^{-i(\\delta \\omega_{1d}t + \\phi_1)} & 0 & 0 & 0 \\\\\n",
    "0 & e^{-i(\\delta \\omega_{1d}t + \\phi_1)} & 0 & 0\n",
    "\\end{bmatrix}\n",
    "\n",
    "-\\frac{\\Omega_2}{2}V_2S_2(t)\n",
    "\\begin{bmatrix}\n",
    "0 & e^{i(\\delta \\omega_{2d}t + \\phi_2)}& 0 & 0\\\\\n",
    "e^{-i(\\delta \\omega_{2d}t + \\phi_2)} & 0 & 0 & 0 \\\\\n",
    "0 & 0 & 0 & e^{i(\\delta \\omega_{2d}t + \\phi_2)}\\\\\n",
    "0 & 0 & e^{-i(\\delta \\omega_{2d}t + \\phi_2)} & 0\n",
    "\\end{bmatrix}$$\n"
   ],
   "metadata": {
    "collapsed": false
   },
   "id": "eeabdaa9530867fb"
  },
  {
   "cell_type": "markdown",
   "source": [
    "# Setting\n",
    "\n",
    "### Rabi oscillation frequency $\\Omega$\n",
    "\n",
    "$\\Omega_1/(2\\pi)=0.01$(10MHz)\n",
    "$\\Omega_2/(2\\pi)=0.01$(10MHz)\n",
    "\n",
    "### Qubit frequency difference $\\delta \\omega_{12}$\n",
    "얘네가 문제임 Z line으로 control 가능하게 해야 realistic 한데\n",
    "\n",
    "### Detuning $\\delta \\omega_{1}$, $\\delta \\omega_{2}$\n",
    "$\\delta \\omega=\\omega_q -\\omega_d$\n",
    "\n",
    "\n",
    "### g\n",
    "$g/(2\\pi)$=\n",
    "\n",
    "### Anharmonicty $\\eta$\n",
    "$\\eta/(2\\pi)=0$ 아직 추가안함\n",
    "\n",
    "\n",
    "\n"
   ],
   "metadata": {
    "collapsed": false
   },
   "id": "2cd76ed8a0540aeb"
  },
  {
   "cell_type": "raw",
   "source": [],
   "metadata": {
    "collapsed": false
   },
   "id": "f660a2933ac4f6b1"
  },
  {
   "cell_type": "code",
   "execution_count": 70,
   "outputs": [],
   "source": [
    "def make_U(H, time_step):\n",
    "    \"\"\"\n",
    "    PARAMETER\n",
    "        Hamiltonian : function of t\n",
    "        time_step : float\n",
    "    RETURNS\n",
    "        U : function of t\n",
    "    \"\"\"\n",
    "    hbar = 1.\n",
    "    I = np.identity(4,dtype=complex)\n",
    "    \n",
    "    def U(t):\n",
    "        total = I #U(t=0)\n",
    "        check = [I]\n",
    "        times = np.arange(start=0,stop=t,step=time_step)\n",
    "        for time in times:\n",
    "            derivative = (-1j/hbar)*np.matmul(H(time),total)*time_step\n",
    "            total = total + derivative\n",
    "            check.append(total) \n",
    "        return total, np.array(check)\n",
    "    return U"
   ],
   "metadata": {
    "collapsed": false,
    "ExecuteTime": {
     "end_time": "2023-12-08T23:27:11.953122Z",
     "start_time": "2023-12-08T23:27:11.950827Z"
    }
   },
   "id": "46726427f8a1e49d"
  },
  {
   "cell_type": "code",
   "execution_count": 71,
   "outputs": [],
   "source": [
    "def make_H_int(g,delta_omega):\n",
    "    \"\"\"\n",
    "    \n",
    "    :param g: coupling strength\n",
    "    :param detuning: omega_q1 - omega_q2\n",
    "    :return: \n",
    "    \"\"\"\n",
    "    def H_int(t):\n",
    "        matrix=np.zeros((4,4),dtype=complex)\n",
    "        matrix[2][1] = np.exp((1j)*delta_omega*t)\n",
    "        matrix[1][2] = np.exp((-1j)*delta_omega*t)\n",
    "        return g(t)*matrix\n",
    "    return H_int"
   ],
   "metadata": {
    "collapsed": false,
    "ExecuteTime": {
     "end_time": "2023-12-08T23:27:11.955810Z",
     "start_time": "2023-12-08T23:27:11.954082Z"
    }
   },
   "id": "542e2c948c010120"
  },
  {
   "cell_type": "code",
   "execution_count": 72,
   "outputs": [],
   "source": [
    "def make_H_d1(Omega,V_0,delta_omega,phi,s):\n",
    "    \"\"\"\n",
    "    :param Omega:  \n",
    "    :param V_0: \n",
    "    :param delta_omega:omega_q - omega_d \n",
    "    :param phi: offset in driving sine wave\n",
    "    :param s: control pulse\n",
    "    :return: \n",
    "    \"\"\"\n",
    "    I=np.identity(2,dtype=complex)\n",
    "\n",
    "    def H(t):\n",
    "        matrix=np.zeros((2,2),dtype=complex)\n",
    "        matrix[0][1]=np.exp((1j)*(delta_omega*t+phi))\n",
    "        matrix[1][0]=np.exp((-1j)*(delta_omega*t+phi))\n",
    "    \n",
    "        return (-0.5)*Omega*V_0*s(t)*np.kron(matrix,I)\n",
    "    \n",
    "    return H #4by4 matrix"
   ],
   "metadata": {
    "collapsed": false,
    "ExecuteTime": {
     "end_time": "2023-12-08T23:27:11.960988Z",
     "start_time": "2023-12-08T23:27:11.957083Z"
    }
   },
   "id": "b20ae6471f14095b"
  },
  {
   "cell_type": "code",
   "execution_count": 73,
   "outputs": [],
   "source": [
    "def make_H_d2(Omega,V_0,delta_omega,phi,s):\n",
    "    \"\"\"\n",
    "    :param Omega:  \n",
    "    :param V_0: \n",
    "    :param delta_omega:omega_q - omega_d \n",
    "    :param phi: offset in driving sine wave\n",
    "    :param s: control pulse\n",
    "    :return: \n",
    "    \"\"\"\n",
    "    I=np.identity(2,dtype=complex)\n",
    "    \n",
    "    def H(t):\n",
    "        matrix=np.zeros((2,2),dtype='complex128')\n",
    "        matrix[0][1]=np.exp((1j)*(delta_omega*t+phi))\n",
    "        matrix[1][0]=np.exp((-1j)*(delta_omega*t+phi))\n",
    "    \n",
    "        return (-0.5)*Omega*V_0*s(t)*np.kron(I,matrix)\n",
    "    \n",
    "    return H #4by4 matrix"
   ],
   "metadata": {
    "collapsed": false,
    "ExecuteTime": {
     "end_time": "2023-12-08T23:27:11.962511Z",
     "start_time": "2023-12-08T23:27:11.960439Z"
    }
   },
   "id": "9add191151bd40e2"
  },
  {
   "cell_type": "code",
   "execution_count": 74,
   "outputs": [],
   "source": [
    "def g(t):\n",
    "    return 0.04*2*np.pi \n",
    "# 40MHz"
   ],
   "metadata": {
    "collapsed": false,
    "ExecuteTime": {
     "end_time": "2023-12-08T23:27:11.964495Z",
     "start_time": "2023-12-08T23:27:11.962436Z"
    }
   },
   "id": "bd3846979ebc15a7"
  },
  {
   "cell_type": "code",
   "execution_count": 75,
   "outputs": [],
   "source": [
    "#ideal_t = np.pi / "
   ],
   "metadata": {
    "collapsed": false,
    "ExecuteTime": {
     "end_time": "2023-12-08T23:27:11.966115Z",
     "start_time": "2023-12-08T23:27:11.964394Z"
    }
   },
   "id": "b437f86959a1b131"
  },
  {
   "cell_type": "code",
   "execution_count": 76,
   "outputs": [],
   "source": [
    "def slepian(t):\n",
    "    Fs = 10 #sampling rate 1ns에 10번 \n",
    "    N = 500\n",
    "    time = np.arange(N+1)/Fs \n",
    "    #freq = np.fft.fftfreq(N+1,d=1/Fs)\n",
    "    NW = 6    # Time-halfbandwidth product\n",
    "    # Generating the Slepian sequences\n",
    "    slepian_sequence = dpss(N+1, NW)\n",
    "    slepian_continuous = interp1d(time, slepian_sequence, kind='cubic')\n",
    "    return slepian_continuous(t)"
   ],
   "metadata": {
    "collapsed": false,
    "ExecuteTime": {
     "end_time": "2023-12-08T23:27:11.977802Z",
     "start_time": "2023-12-08T23:27:11.966883Z"
    }
   },
   "id": "b343016ce2fa41df"
  },
  {
   "cell_type": "code",
   "execution_count": 77,
   "outputs": [],
   "source": [
    "#Setting\n",
    "omega1 = 0.01 * 2 * np.pi #10MHz\n",
    "omega2 = 0.01 * 2 * np.pi #10MHz\n",
    "V1=1.\n",
    "V2=1. #unit?\n",
    "delta_omega1 = 0.001 * 2 * np.pi #1MHz #qubit frequency and driving frequency\n",
    "delta_omega2 = 0.001 * 2 * np.pi #1MHz\n",
    "delta_q12 = 1 * 2 * np.pi # 1GHz\n",
    "phi1 = 0.001\n",
    "phi2 = 0.001"
   ],
   "metadata": {
    "collapsed": false,
    "ExecuteTime": {
     "end_time": "2023-12-08T23:27:11.979204Z",
     "start_time": "2023-12-08T23:27:11.969698Z"
    }
   },
   "id": "6be19978740e9cfa"
  },
  {
   "cell_type": "code",
   "execution_count": 78,
   "outputs": [],
   "source": [
    "H_int = make_H_int(g=g,delta_omega=0.) \n",
    "H_d1 = make_H_d1(Omega=omega1, V_0=V1,delta_omega=delta_omega1,s=slepian,phi=phi1)\n",
    "H_d2 = make_H_d2(Omega=omega2, V_0=V2,delta_omega=delta_omega2,s=slepian,phi=phi2)\n",
    "def H(t):\n",
    "    return H_int(t)+H_d1(t)+H_d2(t)"
   ],
   "metadata": {
    "collapsed": false,
    "ExecuteTime": {
     "end_time": "2023-12-08T23:27:11.979470Z",
     "start_time": "2023-12-08T23:27:11.973147Z"
    }
   },
   "id": "9b3f01420ab73855"
  },
  {
   "cell_type": "code",
   "execution_count": 79,
   "outputs": [],
   "source": [
    "U = make_U(H_int, time_step=1e-4)"
   ],
   "metadata": {
    "collapsed": false,
    "ExecuteTime": {
     "end_time": "2023-12-08T23:27:11.979711Z",
     "start_time": "2023-12-08T23:27:11.974884Z"
    }
   },
   "id": "586da179c863d67b"
  },
  {
   "cell_type": "code",
   "execution_count": 80,
   "outputs": [],
   "source": [
    "#Uhigh = make_U(H, time_step=1e-5)"
   ],
   "metadata": {
    "collapsed": false,
    "ExecuteTime": {
     "end_time": "2023-12-08T23:27:11.980347Z",
     "start_time": "2023-12-08T23:27:11.976760Z"
    }
   },
   "id": "f5504cafd83f15ff"
  },
  {
   "cell_type": "code",
   "execution_count": 81,
   "outputs": [],
   "source": [
    "transition, info = U(100./16.) #한번 돌리는데 4분30초...GPU로 계산하면 더 빠른가?"
   ],
   "metadata": {
    "collapsed": false,
    "ExecuteTime": {
     "end_time": "2023-12-08T23:27:12.232667Z",
     "start_time": "2023-12-08T23:27:11.990307Z"
    }
   },
   "id": "2b135f0461b55d"
  },
  {
   "cell_type": "code",
   "execution_count": 82,
   "outputs": [
    {
     "data": {
      "text/plain": "62501"
     },
     "execution_count": 82,
     "metadata": {},
     "output_type": "execute_result"
    }
   ],
   "source": [
    "len(info)"
   ],
   "metadata": {
    "collapsed": false,
    "ExecuteTime": {
     "end_time": "2023-12-08T23:27:12.237704Z",
     "start_time": "2023-12-08T23:27:12.233285Z"
    }
   },
   "id": "3bcec5c183f00e97"
  },
  {
   "cell_type": "code",
   "execution_count": 83,
   "outputs": [],
   "source": [
    "#transition2, info2 = Uhigh(50.) #47분 미쳤네 "
   ],
   "metadata": {
    "collapsed": false,
    "ExecuteTime": {
     "end_time": "2023-12-08T23:27:12.238054Z",
     "start_time": "2023-12-08T23:27:12.235206Z"
    }
   },
   "id": "3cf66ad789534d34"
  },
  {
   "cell_type": "code",
   "execution_count": 84,
   "outputs": [],
   "source": [
    "def get_MSE(A,B):\n",
    "   return np.sum(np.square(np.abs(transition-iSWAP)))"
   ],
   "metadata": {
    "collapsed": false,
    "ExecuteTime": {
     "end_time": "2023-12-08T23:27:12.238943Z",
     "start_time": "2023-12-08T23:27:12.237026Z"
    }
   },
   "id": "2ffddf9bb3217c3f"
  },
  {
   "cell_type": "code",
   "execution_count": 85,
   "outputs": [],
   "source": [
    "initial_state = np.array([0,0,1.,0,], dtype=complex)"
   ],
   "metadata": {
    "collapsed": false,
    "ExecuteTime": {
     "end_time": "2023-12-08T23:27:12.243530Z",
     "start_time": "2023-12-08T23:27:12.239093Z"
    }
   },
   "id": "a5b30b2cd7a2d67f"
  },
  {
   "cell_type": "code",
   "execution_count": 86,
   "outputs": [],
   "source": [
    "state_history=[]\n",
    "for trans in info:\n",
    "    tran_state=np.matmul(trans,initial_state)\n",
    "    state_history.append(tran_state)"
   ],
   "metadata": {
    "collapsed": false,
    "ExecuteTime": {
     "end_time": "2023-12-08T23:27:12.285243Z",
     "start_time": "2023-12-08T23:27:12.281700Z"
    }
   },
   "id": "739fc6bedbb2fe89"
  },
  {
   "cell_type": "code",
   "execution_count": 87,
   "outputs": [
    {
     "data": {
      "text/plain": "<Figure size 640x480 with 1 Axes>",
      "image/png": "[encoded data removed]"
     },
     "metadata": {},
     "output_type": "display_data"
    }
   ],
   "source": [
    "fig, ax = plt.subplots()\n",
    "ax.set_title(\"iSWAP g/(2pi)=40MHz\")\n",
    "ax.plot(np.arange(start=0,stop=100./16.+1e-4,step=1e-4),[np.abs(s[2])**2 for s in state_history],label=\"P_10\")\n",
    "ax.plot(np.arange(start=0,stop=100./16.+1e-4,step=1e-4),[np.abs(s[1])**2 for s in state_history],label=\"P_01\")\n",
    "ax.set_xlabel(\"t(ns)\")\n",
    "plt.legend()\n",
    "plt.show()"
   ],
   "metadata": {
    "collapsed": false,
    "ExecuteTime": {
     "end_time": "2023-12-08T23:27:12.466381Z",
     "start_time": "2023-12-08T23:27:12.286Z"
    }
   },
   "id": "35638968121f626a"
  },
  {
   "cell_type": "code",
   "execution_count": 88,
   "outputs": [],
   "source": [
    "#prepare qubit 1 in e \n",
    "initial_state = np.array([0,0,1.,0,], dtype=complex)\n",
    "desired_state = np.array([0,1.,0,0,], dtype=complex)\n",
    "\n",
    "iSWAP=np.zeros((4,4),dtype=complex)\n",
    "iSWAP[0,0]=1.\n",
    "iSWAP[3,3]=1.\n",
    "iSWAP[2,1]=-1j\n",
    "iSWAP[1,2]=-1j\n"
   ],
   "metadata": {
    "collapsed": false,
    "ExecuteTime": {
     "end_time": "2023-12-08T23:27:12.466803Z",
     "start_time": "2023-12-08T23:27:12.464655Z"
    }
   },
   "id": "e6daa347ed839f8f"
  },
  {
   "cell_type": "code",
   "execution_count": 89,
   "outputs": [
    {
     "data": {
      "text/plain": "7.79288110212224e-10"
     },
     "execution_count": 89,
     "metadata": {},
     "output_type": "execute_result"
    }
   ],
   "source": [
    "get_MSE(iSWAP,transition)"
   ],
   "metadata": {
    "collapsed": false,
    "ExecuteTime": {
     "end_time": "2023-12-08T23:27:12.471458Z",
     "start_time": "2023-12-08T23:27:12.466934Z"
    }
   },
   "id": "65b7b875fc82894d"
  },
  {
   "cell_type": "code",
   "execution_count": 90,
   "outputs": [],
   "source": [
    "error=[]\n",
    "for a in [0.1,0.01,0.001]:\n",
    "    H_i =make_H_int(g=g,delta_omega=a) \n",
    "    U = make_U(H_i , 1e-4)\n",
    "    my_gate=U(100./16.)\n",
    "    error.append(get_MSE(iSWAP, my_gate))"
   ],
   "metadata": {
    "collapsed": false,
    "ExecuteTime": {
     "end_time": "2023-12-08T23:27:13.244287Z",
     "start_time": "2023-12-08T23:27:12.469512Z"
    }
   },
   "id": "66ae1235e130e395"
  },
  {
   "cell_type": "code",
   "execution_count": 91,
   "outputs": [
    {
     "data": {
      "text/plain": "[7.79288110212224e-10, 7.79288110212224e-10, 7.79288110212224e-10]"
     },
     "execution_count": 91,
     "metadata": {},
     "output_type": "execute_result"
    }
   ],
   "source": [
    "error"
   ],
   "metadata": {
    "collapsed": false,
    "ExecuteTime": {
     "end_time": "2023-12-08T23:27:13.248330Z",
     "start_time": "2023-12-08T23:27:13.244766Z"
    }
   },
   "id": "8a3285e445abc01d"
  },
  {
   "cell_type": "code",
   "execution_count": 91,
   "outputs": [],
   "source": [],
   "metadata": {
    "collapsed": false,
    "ExecuteTime": {
     "end_time": "2023-12-08T23:27:13.248674Z",
     "start_time": "2023-12-08T23:27:13.246446Z"
    }
   },
   "id": "607b5d310f2f1da1"
  }
 ],
 "metadata": {
  "kernelspec": {
   "display_name": "Python 3",
   "language": "python",
   "name": "python3"
  },
  "language_info": {
   "codemirror_mode": {
    "name": "ipython",
    "version": 2
   },
   "file_extension": ".py",
   "mimetype": "text/x-python",
   "name": "python",
   "nbconvert_exporter": "python",
   "pygments_lexer": "ipython2",
   "version": "2.7.6"
  }
 },
 "nbformat": 4,
 "nbformat_minor": 5
}
