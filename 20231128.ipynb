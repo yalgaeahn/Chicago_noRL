{
 "cells": [
  {
   "cell_type": "code",
   "execution_count": 2,
   "id": "a7289193-230e-4906-b440-a89bd5db8a3a",
   "metadata": {},
   "outputs": [],
   "source": [
    "import numpy as np\n",
    "import matplotlib.pyplot as plt"
   ]
  },
  {
   "cell_type": "markdown",
   "id": "b8a443ab-c7cb-4064-97dc-e241645fa98f",
   "metadata": {},
   "source": [
    "# Capacitively Coupled Qubit\n",
    "$$H(t) = H_0 + H_{int}(t)$$\n",
    "Truncating to perfect two-level system\n",
    "$$H_0=-\\frac{1}{2}\\omega_{1q}\\sigma_{z,1}-\\frac{1}{2}\\omega_{2q}\\sigma_{z,2}$$\n",
    "Using second quantization technique\n",
    "$$H_{int}=g\\sigma_{y,1}\\sigma_{y,2}$$\n",
    "\n",
    "Defining rotating frame for capacitively coupled qubit system ($\\hbar$ 생략)\n",
    "$$U_{rf}=\\exp(iH_0t)$$\n",
    "$$\\tilde{H}=ge^{iH_0t}\\Big[\\sigma_1^- \\sigma_2^+ + \\sigma_1^+ \\sigma_2^- -\\sigma_1^-\\sigma_2^- -\\sigma_1^+\\sigma_2^+ \\Big] e^{-iH_0 t} $$\n",
    "RWA\n",
    "$$\\tilde{H}=ge^{iH_0t}\\Big[\\sigma_1^- \\sigma_2^+ + \\sigma_1^+ \\sigma_2^-  \\Big] e^{-iH_0 t} $$"
   ]
  },
  {
   "cell_type": "code",
   "execution_count": null,
   "id": "f353ecca-e8a4-4e17-a687-2b01a0f7a64f",
   "metadata": {},
   "outputs": [],
   "source": []
  }
 ],
 "metadata": {
  "kernelspec": {
   "display_name": "Python 3 (ipykernel)",
   "language": "python",
   "name": "python3"
  },
  "language_info": {
   "codemirror_mode": {
    "name": "ipython",
    "version": 3
   },
   "file_extension": ".py",
   "mimetype": "text/x-python",
   "name": "python",
   "nbconvert_exporter": "python",
   "pygments_lexer": "ipython3",
   "version": "3.11.5"
  }
 },
 "nbformat": 4,
 "nbformat_minor": 5
}
