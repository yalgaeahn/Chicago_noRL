{
 "cells": [
  {
   "cell_type": "markdown",
   "source": [
    "My Hamiltonian  (assuming all qubits are perfect two level system)\n",
    "$$H(t) = H_0 + H_{int}(t) + H_{d1}(t) + H_{d2}(t) $$\n",
    "$$\\Big[ -\\frac{1}{2}\\omega_{q1}(\\Phi_1(t)) \\hat{\\sigma}_{z1} \\Big ] +\n",
    "\\Big[-\\frac{1}{2}\\omega_{q2}(\\Phi_2(t)) \\hat{\\sigma}_{z2} \\Big] +\n",
    "\\Big[g(t)\\hat\\sigma_{y1}\\hat\\sigma_{y2}\\Big] +\n",
    "\\Big[\\Omega_1V_{d1}(t)\\hat{\\sigma}_{y1} \\Big] + \\Big[\\Omega_1V_{d1}(t)\\hat{\\sigma}_{y2}\\Big]$$\n",
    "https://nbviewer.org/urls/qutip.org/qutip-tutorials/tutorials-v4/pulse-level-circuit-simulation/qip-customize-device.ipynb"
   ],
   "metadata": {
    "collapsed": false
   },
   "id": "df27d21d7d609cf4"
  },
  {
   "cell_type": "code",
   "execution_count": 32,
   "outputs": [],
   "source": [
    "import matplotlib.pyplot as plt\n",
    "import numpy as np\n",
    "from qutip import basis, fidelity, sigmax, sigmay, sigmaz, tensor, identity\n",
    "from qutip.qip.circuit import QubitCircuit\n",
    "from qutip.qip.compiler import GateCompiler, Instruction, SpinChainCompiler\n",
    "from qutip.qip.device import ModelProcessor, Processor\n",
    "from qutip.qip.noise import Noise"
   ],
   "metadata": {
    "collapsed": false,
    "ExecuteTime": {
     "end_time": "2023-12-11T18:23:35.319730Z",
     "start_time": "2023-12-11T18:23:35.316743Z"
    }
   },
   "id": "4476eb6a3c8940a6"
  },
  {
   "cell_type": "code",
   "execution_count": 11,
   "outputs": [
    {
     "ename": "SyntaxError",
     "evalue": "invalid syntax (737981160.py, line 15)",
     "output_type": "error",
     "traceback": [
      "\u001B[0;36m  Cell \u001B[0;32mIn[11], line 15\u001B[0;36m\u001B[0m\n\u001B[0;31m    def __init__(self, num_qubits,, t1=None, t2=None):\u001B[0m\n\u001B[0m                                  ^\u001B[0m\n\u001B[0;31mSyntaxError\u001B[0m\u001B[0;31m:\u001B[0m invalid syntax\n"
     ]
    }
   ],
   "source": [
    "#ㅇㅣ지랄 굳이 해야하나..\n",
    "class MyProcessor(ModelProcessor):\n",
    "    \"\"\"\n",
    "    Custom processor built using ModelProcessor as the base class.\n",
    "    This custom processor will inherit all the methods of the base class\n",
    "    such as setting up of the T1 and T2 decoherence rates in the simulations.\n",
    "\n",
    "    In addition, it is possible to write your own functions to add control\n",
    "    pulses.\n",
    "\n",
    "    Args:\n",
    "        num_qubits (int): Number of qubits in the processor.\n",
    "        t1, t2 (float or list): The T1 and T2 decoherence rates for the\n",
    "    \"\"\"\n",
    "\n",
    "    def __init__(self, num_qubits,, t1=None, t2=None):\n",
    "        super(MyProcessor, self).__init__(\n",
    "            num_qubits, t1=t1, t2=t2\n",
    "        )  # call the parent class initializer\n",
    "        # The control pulse is discrete or continous.\n",
    "        self.pulse_mode = \"discrete\"\n",
    "        self.model.params.update(\n",
    "            {\n",
    "                # can also be different for each qubit\n",
    "                \"s1\": [h_z] * num_qubits,\n",
    "                \"s2\": [h_x] * num_qubits,\n",
    "                \"g\": [g] * num_qubits,\n",
    "            }\n",
    "        )\n",
    "        # The dimension of each controllable quantum system\n",
    "        self.model.dims = [2] * num_qubits\n",
    "        self.num_qubits = num_qubits\n",
    "        self.set_up_ops()  # set up the available Hamiltonians\n",
    "\n",
    "    def set_up_ops(self):\n",
    "        \"\"\"\n",
    "        Sets up the control operators.\n",
    "        \"\"\"\n",
    "        for m in range(self.num_qubits):\n",
    "            # sigmax pulse on m-th qubit with the corresponding pulse\n",
    "            self.add_control(2 * np.pi * sigmax(), m, label=\"sx\" + str(m))\n",
    "        # sz\n",
    "        for m in range(self.num_qubits):\n",
    "            self.add_control(2 * np.pi * sigmaz(), m, label=\"sz\" + str(m))\n",
    "        # interaction operator\n",
    "        operator = tensor([sigmay(), sigmay()])\n",
    "        for m in range(self.num_qubits - 1):\n",
    "            self.add_control(2 * np.pi * operator, [m, m + 1],\n",
    "                             label=\"g\" + str(m))"
   ],
   "metadata": {
    "collapsed": false,
    "ExecuteTime": {
     "end_time": "2023-12-11T17:29:20.444390Z",
     "start_time": "2023-12-11T17:29:20.442201Z"
    }
   },
   "id": "b9cf0049107693ec"
  },
  {
   "cell_type": "markdown",
   "source": [
    "# What's the difference?"
   ],
   "metadata": {
    "collapsed": false
   },
   "id": "62c0f9e339e9969e"
  },
  {
   "cell_type": "code",
   "execution_count": 33,
   "outputs": [],
   "source": [
    "num_qubits = 2\n",
    "omega1 = 0.01 * 2 * np.pi #10MHz\n",
    "omega2 = 0.01 * 2 * np.pi #10MHz\n",
    "omegaq1 = 4 #4GHz\n",
    "omegaq2 = 4.3 #4.3GHz\n",
    "v1 = 1.\n",
    "v2 = 1."
   ],
   "metadata": {
    "collapsed": false,
    "ExecuteTime": {
     "end_time": "2023-12-11T18:49:02.161330Z",
     "start_time": "2023-12-11T18:49:02.156048Z"
    }
   },
   "id": "b2a7705eb210781e"
  },
  {
   "cell_type": "code",
   "execution_count": null,
   "outputs": [],
   "source": [],
   "metadata": {
    "collapsed": false
   },
   "id": "3a36479a2ce3c74c"
  },
  {
   "cell_type": "markdown",
   "source": [
    "target=0 을 설정하면 tensor([identity(),sigmay()]) 와 같은 효과를 얻게 되나???\n",
    "ㄴㄴ target은 그냥 설정해줘야하는 값임 \n",
    "위에 저렇게 tensor product 해주면 target=[0,1] 둘 다 "
   ],
   "metadata": {
    "collapsed": false
   },
   "id": "a7de8748a1b280e"
  },
  {
   "cell_type": "code",
   "execution_count": 40,
   "outputs": [],
   "source": [
    "processor = Processor(N=2, spline_kind='step_func')\n",
    "processor.add_drift((-0.5)*omegaq1*sigmaz(), targets=0)\n",
    "processor.add_drift((-0.5)*omegaq2*sigmaz(), targets=1)\n",
    "processor.add_control(tensor([sigmay(), sigmay()]),label=\"g\",targets=[0,1])\n",
    "processor.add_control(omega1*v1*sigmay(),label=\"s1\",targets=0)\n",
    "processor.add_control(omega2*v2*sigmay(),label=\"s2\",targets=1)\n"
   ],
   "metadata": {
    "collapsed": false,
    "ExecuteTime": {
     "end_time": "2023-12-11T19:01:48.893837Z",
     "start_time": "2023-12-11T19:01:48.885588Z"
    }
   },
   "id": "5c435176521e76a5"
  },
  {
   "cell_type": "code",
   "execution_count": 31,
   "outputs": [
    {
     "ename": "NotImplementedError",
     "evalue": "Use the function in the sub-class",
     "output_type": "error",
     "traceback": [
      "\u001B[0;31m---------------------------------------------------------------------------\u001B[0m",
      "\u001B[0;31mNotImplementedError\u001B[0m                       Traceback (most recent call last)",
      "Cell \u001B[0;32mIn[31], line 4\u001B[0m\n\u001B[1;32m      2\u001B[0m qc\u001B[38;5;241m.\u001B[39madd_gate(\u001B[38;5;124m\"\u001B[39m\u001B[38;5;124mX\u001B[39m\u001B[38;5;124m\"\u001B[39m, \u001B[38;5;241m0\u001B[39m)\n\u001B[1;32m      3\u001B[0m qc\u001B[38;5;241m.\u001B[39madd_gate(\u001B[38;5;124m\"\u001B[39m\u001B[38;5;124mISWAP\u001B[39m\u001B[38;5;124m\"\u001B[39m, targets\u001B[38;5;241m=\u001B[39m[\u001B[38;5;241m0\u001B[39m, \u001B[38;5;241m1\u001B[39m])\n\u001B[0;32m----> 4\u001B[0m processor\u001B[38;5;241m.\u001B[39mload_circuit(qc)\n",
      "File \u001B[0;32m~/anaconda3/envs/qutip-pytorch/lib/python3.11/site-packages/qutip/qip/device/processor.py:764\u001B[0m, in \u001B[0;36mProcessor.load_circuit\u001B[0;34m(self, qc)\u001B[0m\n\u001B[1;32m    759\u001B[0m \u001B[38;5;28;01mdef\u001B[39;00m \u001B[38;5;21mload_circuit\u001B[39m(\u001B[38;5;28mself\u001B[39m, qc):\n\u001B[1;32m    760\u001B[0m \u001B[38;5;250m    \u001B[39m\u001B[38;5;124;03m\"\"\"\u001B[39;00m\n\u001B[1;32m    761\u001B[0m \u001B[38;5;124;03m    Translate an :class:`.QubitCircuit` to its\u001B[39;00m\n\u001B[1;32m    762\u001B[0m \u001B[38;5;124;03m    corresponding Hamiltonians. (Defined in subclasses)\u001B[39;00m\n\u001B[1;32m    763\u001B[0m \u001B[38;5;124;03m    \"\"\"\u001B[39;00m\n\u001B[0;32m--> 764\u001B[0m     \u001B[38;5;28;01mraise\u001B[39;00m \u001B[38;5;167;01mNotImplementedError\u001B[39;00m(\u001B[38;5;124m\"\u001B[39m\u001B[38;5;124mUse the function in the sub-class\u001B[39m\u001B[38;5;124m\"\u001B[39m)\n",
      "\u001B[0;31mNotImplementedError\u001B[0m: Use the function in the sub-class"
     ]
    }
   ],
   "source": [
    "qc = QubitCircuit(N=2)\n",
    "qc.add_gate(\"X\", 0)\n",
    "qc.add_gate(\"ISWAP\", targets=[0, 1])"
   ],
   "metadata": {
    "collapsed": false,
    "ExecuteTime": {
     "end_time": "2023-12-11T18:13:34.768330Z",
     "start_time": "2023-12-11T18:13:34.754882Z"
    }
   },
   "id": "4e4f740be15d3623"
  },
  {
   "cell_type": "code",
   "execution_count": null,
   "outputs": [],
   "source": [],
   "metadata": {
    "collapsed": false
   },
   "id": "af478f77979c51e9"
  }
 ],
 "metadata": {
  "kernelspec": {
   "display_name": "Python 3",
   "language": "python",
   "name": "python3"
  },
  "language_info": {
   "codemirror_mode": {
    "name": "ipython",
    "version": 2
   },
   "file_extension": ".py",
   "mimetype": "text/x-python",
   "name": "python",
   "nbconvert_exporter": "python",
   "pygments_lexer": "ipython2",
   "version": "2.7.6"
  }
 },
 "nbformat": 4,
 "nbformat_minor": 5
}
