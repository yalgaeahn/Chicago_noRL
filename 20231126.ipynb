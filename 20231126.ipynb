{
 "cells": [
  {
   "cell_type": "code",
   "execution_count": 6,
   "id": "db84a58d",
   "metadata": {
    "ExecuteTime": {
     "end_time": "2023-11-23T16:01:07.939307Z",
     "start_time": "2023-11-23T16:01:07.934671Z"
    }
   },
   "outputs": [],
   "source": [
    "import numpy as np\n",
    "import matplotlib.pyplot as plt\n",
    "%matplotlib inline"
   ]
  },
  {
   "cell_type": "markdown",
   "id": "2b99754c",
   "metadata": {},
   "source": [
    "# Problem1 \n",
    "### Simple case\n",
    "#### single pulse converted to gate operation in rotating frame\n",
    "$$\n",
    "H_{rf,d}(t)=-\\frac{1}{2}\\Omega V_0 S_{\\theta}(t)\n",
    "\\begin{pmatrix}\n",
    "0 & e^{i(\\delta\\omega t+\\phi)} \\\\\n",
    "e^{-i(\\delta\\omega t+\\phi)} & 0 \n",
    "\\end{pmatrix} \\qquad (90)\n",
    "$$\n",
    "\n",
    "$$\n",
    "H_{rf,d}(t)=-\\frac{\\Omega}{2}V_0 S_{\\theta}(t) \\Big[ \\cos(\\delta\\omega t+\\phi)\\sigma_x-\\sin(\\delta\\omega t+\\phi)\\sigma_y \\Big] \\quad (1)\n",
    "$$\n",
    "\n",
    "$$\n",
    "\\frac{\\partial}{\\partial t}U(t) = -\\frac{i}{\\hbar}H(t)U(t) \\quad(2)\n",
    "$$\n",
    "\n",
    "$$\n",
    "U=\\hat{T}\\exp{({-i/{\\hslash}\\int_0^t \\tilde{H_d}(t')dt'})} \\quad (3)\n",
    "$$\n",
    "\n",
    "The solution for U in (2) is time-ordered exponential (3)"
   ]
  },
  {
   "cell_type": "markdown",
   "id": "b6127a96",
   "metadata": {},
   "source": [
    "(90) is the driving hamiltonian in rotating frame"
   ]
  },
  {
   "cell_type": "markdown",
   "id": "d035e6a0-a4b5-4b69-94d0-cb3d9b117765",
   "metadata": {},
   "source": [
    "아래와 같은 방식으로 $U(t)$를 계산하면 자동적으로 time-ordering을 만족한다\n",
    "\n",
    "$$U(t_{n+1})= U(t_n)+\\frac{dU}{dt}|_{t_n}\\Delta t $$\n",
    "$$\\frac{dU}{dt}=-\\frac{i}{\\hbar}H(t)U(t)$$"
   ]
  },
  {
   "cell_type": "code",
   "execution_count": 99,
   "id": "bcc3b0c3-2817-49ff-a92f-013c9c2de5cb",
   "metadata": {},
   "outputs": [],
   "source": [
    "#time_step=1e-4\n",
    "\n",
    "def make_U(H, time_step):\n",
    "    \"\"\"\n",
    "    PARAMETER\n",
    "        Hamiltonian : function of t\n",
    "        time_step : float\n",
    "    RETURNS\n",
    "        U : function of t\n",
    "    \"\"\"\n",
    "    hbar = 1.\n",
    "    I = np.identity(2,dtype=\"complex128\")\n",
    "    \n",
    "    def U(t):\n",
    "        total = I #U(t=0)\n",
    "        check = [I]\n",
    "        times = np.arange(start=0,stop=t,step=time_step)\n",
    "        for time in times:\n",
    "            derivative = (-1j/hbar)*np.matmul(H(time),total)*time_step\n",
    "            total = total + derivative\n",
    "            check.append(total) \n",
    "        return total, np.array(check)\n",
    "        \n",
    "\n",
    "    return U"
   ]
  },
  {
   "cell_type": "code",
   "execution_count": 100,
   "id": "2fdf8ea5-cd88-4836-9642-2423b2044ab4",
   "metadata": {},
   "outputs": [
    {
     "data": {
      "text/plain": [
       "19.9999"
      ]
     },
     "execution_count": 100,
     "metadata": {},
     "output_type": "execute_result"
    }
   ],
   "source": [
    "times = np.arange(start=0,stop=20.,step=1e-4)\n",
    "times[-1]"
   ]
  },
  {
   "cell_type": "markdown",
   "id": "961ae4cc-6bcc-4ed3-bbc2-71d663092466",
   "metadata": {},
   "source": [
    "total += derivative이 total=total + derivative 이랑 똑같아야 하는거 아닌가 이해가안가네 "
   ]
  },
  {
   "cell_type": "code",
   "execution_count": 101,
   "id": "a8fbbe3e",
   "metadata": {
    "ExecuteTime": {
     "end_time": "2023-11-23T15:59:57.255353Z",
     "start_time": "2023-11-23T15:59:57.249856Z"
    }
   },
   "outputs": [],
   "source": [
    "def make_H_d(Omega,V_0,delta_omega,phi,s):\n",
    "    \"\"\"\n",
    "    PARAMETER\n",
    "        -s:function \n",
    "    RETURN \n",
    "        -H: time-dependent Hamiltonian (Hermitian for all t)\n",
    "    \"\"\" \n",
    "    \n",
    "    def H(t):\n",
    "        matrix=np.zeros((2,2),dtype='complex128')\n",
    "        matrix[0][1]=np.exp((1j)*(delta_omega*t+phi))\n",
    "        matrix[1][0]=np.exp((-1j)*(delta_omega*t+phi))\n",
    "    \n",
    "        return (-0.5)*Omega*V_0*s(t)*matrix\n",
    "    \n",
    "    return H\n",
    " "
   ]
  },
  {
   "cell_type": "code",
   "execution_count": 102,
   "id": "5df13f6d-81c9-446c-a846-ef4427dd0e51",
   "metadata": {},
   "outputs": [],
   "source": [
    "def make_H_d2(Omega, V_0, delta_omega, phi, s):\n",
    "    \n",
    "    sigma_x = np.array([[0,1],[1,0]], dtype = \"complex128\")\n",
    "    sigma_y = np.array([[0,-1j],[1j,0]], dtype = \"complex128\")\n",
    "\n",
    "    def H(t):\n",
    "        matrix=np.cos(delta_omega*t + phi) * sigma_x - np.sin(delta_omega*t + phi) * sigma_y\n",
    "        return (-0.5)*Omega*V_0*s(t)*matrix\n",
    "    return H"
   ]
  },
  {
   "cell_type": "code",
   "execution_count": 103,
   "id": "fc919ad1",
   "metadata": {},
   "outputs": [],
   "source": [
    "def s(t):\n",
    "    return np.sin(((2*np.pi)/20.)*t) "
   ]
  },
  {
   "cell_type": "code",
   "execution_count": 104,
   "id": "54089886",
   "metadata": {
    "ExecuteTime": {
     "end_time": "2023-11-23T16:02:58.620516Z",
     "start_time": "2023-11-23T16:02:58.616209Z"
    }
   },
   "outputs": [],
   "source": [
    "testH=make_H_d(Omega=1.,V_0=1.,delta_omega=0.001,phi=0.1,s=s)"
   ]
  },
  {
   "cell_type": "code",
   "execution_count": 105,
   "id": "53294888-ad62-4761-8123-e0252793d35c",
   "metadata": {},
   "outputs": [],
   "source": [
    "testH2=make_H_d2(Omega=1., V_0=1., delta_omega=0.001, phi=0.1,s=s)"
   ]
  },
  {
   "cell_type": "code",
   "execution_count": 106,
   "id": "a20401f4-cb17-4822-a18f-bc2dea6ea5e3",
   "metadata": {},
   "outputs": [],
   "source": [
    "testU = make_U(testH,1e-4)"
   ]
  },
  {
   "cell_type": "code",
   "execution_count": 107,
   "id": "229c702d-66f9-4d12-8b85-fa0acec200ac",
   "metadata": {},
   "outputs": [],
   "source": [
    "testU2 = make_U(testH2,1e-4)"
   ]
  },
  {
   "cell_type": "code",
   "execution_count": 108,
   "id": "cb82fad2-61dc-4c47-835e-fbd5f71a8292",
   "metadata": {},
   "outputs": [],
   "source": [
    "matrix, check = testU(20.)"
   ]
  },
  {
   "cell_type": "code",
   "execution_count": 109,
   "id": "b0d56cf7-6675-4e38-a538-71c71bbd56d5",
   "metadata": {},
   "outputs": [],
   "source": [
    "matrix2, check2 = testU2(20.)"
   ]
  },
  {
   "cell_type": "code",
   "execution_count": 110,
   "id": "b3939190-8dc1-48b8-87b9-b004be46020a",
   "metadata": {},
   "outputs": [
    {
     "data": {
      "text/plain": [
       "array([[ 1.00010157e+00+6.84637788e-03j,  1.30233327e-04+1.43837271e-05j],\n",
       "       [-1.30233327e-04+1.43837271e-05j,  1.00010157e+00-6.84637788e-03j]])"
      ]
     },
     "execution_count": 110,
     "metadata": {},
     "output_type": "execute_result"
    }
   ],
   "source": [
    "matrix"
   ]
  },
  {
   "cell_type": "code",
   "execution_count": 111,
   "id": "57c39cf7-eb1e-4116-a867-26ede536af71",
   "metadata": {},
   "outputs": [
    {
     "data": {
      "text/plain": [
       "array([[ 1.00010157e+00+6.84637788e-03j,  1.30233327e-04+1.43837271e-05j],\n",
       "       [-1.30233327e-04+1.43837271e-05j,  1.00010157e+00-6.84637788e-03j]])"
      ]
     },
     "execution_count": 111,
     "metadata": {},
     "output_type": "execute_result"
    }
   ],
   "source": [
    "matrix2"
   ]
  },
  {
   "cell_type": "code",
   "execution_count": 112,
   "id": "734616ab-5cf7-4d11-a85b-c9d2495c0db2",
   "metadata": {},
   "outputs": [
    {
     "data": {
      "text/plain": [
       "array([[1.00025003e+00-1.09014259e-19j, 1.87112063e-20+2.96952785e-22j],\n",
       "       [1.87112063e-20+2.64033799e-22j, 1.00025003e+00+1.09014431e-19j]])"
      ]
     },
     "execution_count": 112,
     "metadata": {},
     "output_type": "execute_result"
    }
   ],
   "source": [
    "matrix_dagger = np.matrix.getH(matrix)\n",
    "np.matmul(matrix,matrix_dagger)"
   ]
  },
  {
   "cell_type": "markdown",
   "id": "dbd98885-dff3-417d-a915-f4881b826c7a",
   "metadata": {},
   "source": [
    "\n",
    "$$U(t)= U(t=0) + \\sum\\frac{dU}{dt}|_{t=\\Delta tn}$$\n",
    "$\\frac{dU}{dt}=-\\frac{i}{\\hbar}HU$ 더해지는 term이 unitary 하지 않아서 그런가?\n",
    "\n",
    "$\\frac{d}{dt}\\Big(\\hat{U}^\\dagger(t)\\hat{U}(t)\\Big)=0$ and $U(t=0)=I$ 이라서 모든 t에서 unitary해야하는데..\n",
    "\n",
    "unitary함...\n",
    "Python e-notation을 몰랐어서...멍청한 짓함"
   ]
  },
  {
   "cell_type": "code",
   "execution_count": 113,
   "id": "72bc6ae7-32db-45f7-9f87-25d588324eac",
   "metadata": {},
   "outputs": [
    {
     "data": {
      "text/plain": [
       "array([[1.+0.j, 0.+0.j],\n",
       "       [0.+0.j, 1.+0.j]])"
      ]
     },
     "execution_count": 113,
     "metadata": {},
     "output_type": "execute_result"
    }
   ],
   "source": [
    "np.matmul(check[1],np.matrix.getH(check[1]))"
   ]
  },
  {
   "cell_type": "code",
   "execution_count": 114,
   "id": "5922df33-30f0-43bc-bd38-6dca32afe429",
   "metadata": {},
   "outputs": [
    {
     "data": {
      "image/png": "[encoded data removed]",
      "text/plain": [
       "<Figure size 640x480 with 1 Axes>"
      ]
     },
     "metadata": {},
     "output_type": "display_data"
    }
   ],
   "source": [
    "fig, ax =plt.subplots()\n",
    "fig=plt.plot(np.arange(start=0,stop=20.,step=1e-4), [check[i][0][0].real for i in range(200000)])\n",
    "fig=plt.plot(np.arange(start=0,stop=20.,step=1e-4), [check2[i][0][0].real for i in range(200000)])"
   ]
  },
  {
   "cell_type": "markdown",
   "id": "0a8b18be-3ae7-4d50-87fb-da17b91a2d62",
   "metadata": {},
   "source": [
    " $H_d(t)=f(t)\\sigma_x+g(t)\\sigma_y$로 쪼개서 make_U 함수로 $U(t)$를 구했는데 당연히 같은 결과가 나왔다.\n",
    "\n",
    " exponential operator가 Taylor expansion 정의되고 operator들은 일반적으로 서로 commute 하지 않음에 주의하자\n",
    " $$\\exp\\Big[i\\sigma_x F(t) \\Big]=i\\sigma_x \\cos{\\Big(\\int_0^t f(t')}dt'\\Big)+I\\sin \\Big( \\int_0^t f(t')dt' \\Big)\n",
    "$$ "
   ]
  },
  {
   "cell_type": "markdown",
   "id": "120b438f-541d-49b0-a36b-77b4724e3d22",
   "metadata": {},
   "source": [
    "$$\\exp\\Big[i\\sigma_x F(t) + i\\sigma_y G(t) \\Big] \\neq \\exp\\Big[i\\sigma_x F(t) \\Big] \\exp\\Big[i\\sigma_x F(t) \\Big]$$"
   ]
  },
  {
   "cell_type": "markdown",
   "id": "724fd8bf",
   "metadata": {},
   "source": [
    "# Problem 2\n",
    "## Sequence of pulses converted in to sequence of gate operation\n",
    "In general matrices does not commute with each other so we need to use time ordering operator $T$\n",
    "\n",
    "$$U_k...U_1U_ \\ = \\ T\\prod_{n=0}^k \\exp \\Big[-\\frac{i}{\\hbar}\\int_0^t H^n(t')dt' \\Big] $$\n",
    "\n",
    "계산된 matrix 들은 일반적으로 서로 commute하지 않는다.\n",
    "\n"
   ]
  },
  {
   "cell_type": "markdown",
   "id": "d2a7758d-ab1b-4c17-9ab0-d71997a3a00f",
   "metadata": {},
   "source": [
    "pulse sequence가 주어질때 최종 gate operation(matrix)를 구할때는 주어진 순서대로 matrix U를 만들어서 행렬연산을 해줘야한다. "
   ]
  },
  {
   "cell_type": "code",
   "execution_count": 100,
   "id": "cd91f0c8",
   "metadata": {},
   "outputs": [],
   "source": [
    "pulse_sequence=[]"
   ]
  }
 ],
 "metadata": {
  "kernelspec": {
   "display_name": "Python 3 (ipykernel)",
   "language": "python",
   "name": "python3"
  },
  "language_info": {
   "codemirror_mode": {
    "name": "ipython",
    "version": 3
   },
   "file_extension": ".py",
   "mimetype": "text/x-python",
   "name": "python",
   "nbconvert_exporter": "python",
   "pygments_lexer": "ipython3",
   "version": "3.11.6"
  },
  "toc": {
   "base_numbering": 1,
   "nav_menu": {},
   "number_sections": false,
   "sideBar": true,
   "skip_h1_title": false,
   "title_cell": "Table of Contents",
   "title_sidebar": "Contents",
   "toc_cell": false,
   "toc_position": {},
   "toc_section_display": true,
   "toc_window_display": false
  }
 },
 "nbformat": 4,
 "nbformat_minor": 5
}
