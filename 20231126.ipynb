{
 "cells": [
  {
   "cell_type": "code",
   "execution_count": 1,
   "id": "db84a58d",
   "metadata": {
    "ExecuteTime": {
     "end_time": "2023-11-23T16:01:07.939307Z",
     "start_time": "2023-11-23T16:01:07.934671Z"
    }
   },
   "outputs": [],
   "source": [
    "import numpy as np\n",
    "import matplotlib.pyplot as plt\n",
    "%matplotlib inline"
   ]
  },
  {
   "cell_type": "markdown",
   "id": "2b99754c",
   "metadata": {},
   "source": [
    "# Problem1 \n",
    "### Simple case\n",
    "#### single pulse converted to gate operation in rotating frame\n",
    "$$\n",
    "H_{rf,d}(t)=-\\frac{1}{2}\\Omega V_0 S_{\\theta}(t)\n",
    "\\begin{pmatrix}\n",
    "0 & e^{i(\\delta\\omega t+\\phi)} \\\\\n",
    "e^{-i(\\delta\\omega t+\\phi)} & 0 \n",
    "\\end{pmatrix} \\qquad (90)\n",
    "$$\n",
    "\n",
    "$$\n",
    "H_{rf,d}(t)=-\\frac{\\Omega}{2}V_0 S_{\\theta}(t) \\Big[ \\cos(\\delta\\omega t+\\phi)\\sigma_x-\\sin(\\delta\\omega t+\\phi)\\sigma_y \\Big] \\quad (1)\n",
    "$$\n",
    "\n",
    "$$\n",
    "\\frac{\\partial}{\\partial t}U(t) = -\\frac{i}{\\hbar}H(t)U(t) \\quad(2)\n",
    "$$\n",
    "\n",
    "$$\n",
    "U=\\hat{T}\\exp{({-i/{\\hslash}\\int_0^t \\tilde{H_d}(t')dt'})} \\quad (3)\n",
    "$$\n",
    "\n",
    "The solution for U in (2) is time-ordered exponential (3)"
   ]
  },
  {
   "cell_type": "markdown",
   "id": "b6127a96",
   "metadata": {},
   "source": [
    "(90) is the driving hamiltonian in rotating frame"
   ]
  },
  {
   "cell_type": "markdown",
   "id": "d035e6a0-a4b5-4b69-94d0-cb3d9b117765",
   "metadata": {},
   "source": [
    "아래와 같은 방식으로 $U(t)$를 계산하면 자동적으로 time-ordering을 만족한다\n",
    "\n",
    "$$U(t_{n+1})= U(t_n)+\\frac{dU}{dt}|_{t_n}\\Delta t $$\n",
    "$$\\frac{dU}{dt}=-\\frac{i}{\\hbar}H(t)U(t)$$"
   ]
  },
  {
   "cell_type": "code",
   "execution_count": 135,
   "id": "bcc3b0c3-2817-49ff-a92f-013c9c2de5cb",
   "metadata": {},
   "outputs": [],
   "source": [
    "#time_step=1e-4\n",
    "\n",
    "def make_U(H, time_step):\n",
    "    \"\"\"\n",
    "    PARAMETER\n",
    "        Hamiltonian : function of t\n",
    "        time_step : float\n",
    "    RETURNS\n",
    "        U : function of t\n",
    "    \"\"\"\n",
    "    hbar = 1.\n",
    "    I = np.identity(2,dtype=\"complex128\")\n",
    "    \n",
    "    def U(t):\n",
    "        total = I #U(t=0)\n",
    "        check = [I]\n",
    "        times = np.arange(start=0,stop=t,step=time_step)\n",
    "        for t in times[1:]:\n",
    "            derivative = (-1j/hbar)*np.matmul(H(t),total)*time_step\n",
    "            total = total + derivative\n",
    "            check.append(total) \n",
    "        return total, np.array(check)\n",
    "        \n",
    "\n",
    "    return U"
   ]
  },
  {
   "cell_type": "markdown",
   "id": "961ae4cc-6bcc-4ed3-bbc2-71d663092466",
   "metadata": {},
   "source": [
    "total += derivative이 total=total + derivative 이랑 똑같아야 하는거 아닌가 이해가안가네 "
   ]
  },
  {
   "cell_type": "code",
   "execution_count": 136,
   "id": "3df90e16-8ebd-401d-a4dd-b30118365ce3",
   "metadata": {},
   "outputs": [],
   "source": [
    "I = np.identity(2,dtype=\"complex128\")\n",
    "time_step=1e-4\n",
    "hbar=1."
   ]
  },
  {
   "cell_type": "code",
   "execution_count": 137,
   "id": "a8fbbe3e",
   "metadata": {
    "ExecuteTime": {
     "end_time": "2023-11-23T15:59:57.255353Z",
     "start_time": "2023-11-23T15:59:57.249856Z"
    }
   },
   "outputs": [],
   "source": [
    "def make_H_d(Omega,V_0,delta_omega,phi,s):\n",
    "    \"\"\"\n",
    "    PARAMETER\n",
    "        -s:function \n",
    "    RETURN \n",
    "        -H: time-dependent Hamiltonian (has to be Hermitian)\n",
    "    \"\"\" \n",
    "    \n",
    "    def H(t):\n",
    "        matrix=np.zeros((2,2),dtype='complex128')\n",
    "        matrix[0][1]=np.exp((1j)*(delta_omega*t+phi))\n",
    "        matrix[1][0]=np.exp((-1j)*(delta_omega*t+phi))\n",
    "    \n",
    "        return (-0.5)*Omega*V_0*s(t)*matrix\n",
    "    \n",
    "    return H\n",
    " "
   ]
  },
  {
   "cell_type": "code",
   "execution_count": null,
   "id": "5df13f6d-81c9-446c-a846-ef4427dd0e51",
   "metadata": {},
   "outputs": [],
   "source": [
    "def make_H_d2(Omega, V_0, delta_omega, phi, s):\n",
    "    "
   ]
  },
  {
   "cell_type": "code",
   "execution_count": 138,
   "id": "fc919ad1",
   "metadata": {},
   "outputs": [],
   "source": [
    "def s(t):\n",
    "    return np.sin(t)"
   ]
  },
  {
   "cell_type": "code",
   "execution_count": 139,
   "id": "54089886",
   "metadata": {
    "ExecuteTime": {
     "end_time": "2023-11-23T16:02:58.620516Z",
     "start_time": "2023-11-23T16:02:58.616209Z"
    }
   },
   "outputs": [],
   "source": [
    "testH=make_H_d(Omega=1.,V_0=1.,delta_omega=0.001,phi=0.1,s=s)"
   ]
  },
  {
   "cell_type": "code",
   "execution_count": 140,
   "id": "a20401f4-cb17-4822-a18f-bc2dea6ea5e3",
   "metadata": {},
   "outputs": [],
   "source": [
    "testU = make_U(testH,1e-4)"
   ]
  },
  {
   "cell_type": "code",
   "execution_count": 141,
   "id": "cb82fad2-61dc-4c47-835e-fbd5f71a8292",
   "metadata": {},
   "outputs": [],
   "source": [
    "matrix, check = testU(20.)"
   ]
  },
  {
   "cell_type": "code",
   "execution_count": 143,
   "id": "5922df33-30f0-43bc-bd38-6dca32afe429",
   "metadata": {},
   "outputs": [
    {
     "data": {
      "image/png": "[encoded data removed]",
      "text/plain": [
       "<Figure size 640x480 with 1 Axes>"
      ]
     },
     "metadata": {},
     "output_type": "display_data"
    }
   ],
   "source": [
    "fig, ax =plt.subplots()\n",
    "fig=plt.plot(np.arange(start=0,stop=20.,step=1e-4), [check[i][0][0] for i in range(200000)])"
   ]
  },
  {
   "cell_type": "markdown",
   "id": "724fd8bf",
   "metadata": {},
   "source": [
    "# Problem 2\n",
    "## Sequence of pulses converted in to sequence of gate operation\n",
    "In general matrices does not commute with each other so we need to use time ordering operator $T$\n",
    "\n",
    "$$U_k...U_1U_ \\ = \\ T\\prod_{n=0}^k \\exp \\Big[-\\frac{i}{\\hbar}\\int_0^t H^n(t')dt' \\Big] $$\n",
    "\n",
    "계산된 matrix 들은 일반적으로 서로 commute하지 않는다.\n"
   ]
  },
  {
   "cell_type": "code",
   "execution_count": null,
   "id": "8e705310-8ab5-40fd-ad98-6b881f0b0c85",
   "metadata": {},
   "outputs": [],
   "source": []
  },
  {
   "cell_type": "code",
   "execution_count": 100,
   "id": "cd91f0c8",
   "metadata": {},
   "outputs": [],
   "source": [
    "sibal =0\n",
    "for t in range(3):\n",
    "    sibal+=10"
   ]
  },
  {
   "cell_type": "code",
   "execution_count": 101,
   "id": "1bc1b7f3-898d-4055-8d25-3a4bc8526bb3",
   "metadata": {},
   "outputs": [
    {
     "data": {
      "text/plain": [
       "30"
      ]
     },
     "execution_count": 101,
     "metadata": {},
     "output_type": "execute_result"
    }
   ],
   "source": [
    "sibal"
   ]
  },
  {
   "cell_type": "code",
   "execution_count": null,
   "id": "01e23cc5-60f2-4eca-b43c-7085cf40d72b",
   "metadata": {},
   "outputs": [],
   "source": []
  }
 ],
 "metadata": {
  "kernelspec": {
   "display_name": "Python 3 (ipykernel)",
   "language": "python",
   "name": "python3"
  },
  "language_info": {
   "codemirror_mode": {
    "name": "ipython",
    "version": 3
   },
   "file_extension": ".py",
   "mimetype": "text/x-python",
   "name": "python",
   "nbconvert_exporter": "python",
   "pygments_lexer": "ipython3",
   "version": "3.11.5"
  },
  "toc": {
   "base_numbering": 1,
   "nav_menu": {},
   "number_sections": false,
   "sideBar": true,
   "skip_h1_title": false,
   "title_cell": "Table of Contents",
   "title_sidebar": "Contents",
   "toc_cell": false,
   "toc_position": {},
   "toc_section_display": true,
   "toc_window_display": false
  }
 },
 "nbformat": 4,
 "nbformat_minor": 5
}
