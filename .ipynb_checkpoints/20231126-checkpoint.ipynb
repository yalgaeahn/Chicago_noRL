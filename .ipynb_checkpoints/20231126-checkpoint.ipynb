{
 "cells": [
  {
   "cell_type": "code",
   "execution_count": 14,
   "id": "db84a58d",
   "metadata": {
    "ExecuteTime": {
     "end_time": "2023-11-23T16:01:07.939307Z",
     "start_time": "2023-11-23T16:01:07.934671Z"
    }
   },
   "outputs": [],
   "source": [
    "import numpy as np\n",
    "import matplotlib.pyplot as plt\n",
    "%matplotlib inline"
   ]
  },
  {
   "cell_type": "markdown",
   "id": "2b99754c",
   "metadata": {},
   "source": [
    "# Task1\n",
    "$\n",
    "\\tilde{H_0}=-\\frac{1}{2}\\Omega V_0 S_{\\theta}(t)\n",
    "\\begin{pmatrix}\n",
    "0 & e^{i(\\delta\\omega t+\\phi)} \\\\\n",
    "e^{-i(\\delta\\omega t+\\phi)} & 0 \n",
    "\\end{pmatrix} \\\\\n",
    "U=\\tau \\exp{({-i\\int_0^t \\tilde{H_0}(t')dt'})}\n",
    "$\n",
    "\n",
    "where $\\tau$ is time-ordering operator"
   ]
  },
  {
   "cell_type": "code",
   "execution_count": null,
   "id": "86b73692",
   "metadata": {},
   "outputs": [],
   "source": [
    "def H(delta_omega,phi,t,s):\n",
    "    Omega\n",
    "    V_0\n",
    "    \n",
    "    return function"
   ]
  },
  {
   "cell_type": "code",
   "execution_count": 3,
   "id": "ddae1a0d",
   "metadata": {
    "ExecuteTime": {
     "end_time": "2023-11-23T15:49:13.501047Z",
     "start_time": "2023-11-23T15:49:13.495281Z"
    }
   },
   "outputs": [],
   "source": [
    "# timestep 1/1e4\n",
    "def U(t,f,time_step):\n",
    "    def g(t):\n",
    "        dt=time_step\n",
    "        ts=np.arange(start=0,stop=t,step=dt)\n",
    "        suma=0\n",
    "        for t in ts:\n",
    "            suma+=f(t)*dt\n",
    "        return suma\n",
    "    sigma_x=np.array([[0,1],[1,0]])\n",
    "    I=np.identity(2)\n",
    "    return I*np.cos(g(t))+(1j)*sigma_x*np.sin(g(t))"
   ]
  },
  {
   "cell_type": "code",
   "execution_count": 12,
   "id": "a8fbbe3e",
   "metadata": {
    "ExecuteTime": {
     "end_time": "2023-11-23T15:59:57.255353Z",
     "start_time": "2023-11-23T15:59:57.249856Z"
    }
   },
   "outputs": [],
   "source": [
    "def make_H_0(t,s):\n",
    "    \"\"\"\n",
    "    PARAMETER\n",
    "        -s:function \n",
    "    RETURN \n",
    "        -H: time-dependent Hamiltonian\n",
    "    \"\"\"\n",
    "    Omega=1.\n",
    "    V_0=1.\n",
    "    delta_omega  \n",
    "    matrix=np.zeros((2,2),dtype='complex128')\n",
    "    matrix[0][1]=np.exp((1j)*(delta_omega*t+phi))\n",
    "    matrix[1][0]=np.exp((-1j)*(delta_omega*t+phi))\n",
    "    H=(-0.5)*Omega*V_0*s(t)*matrix\n",
    "    return H\n",
    " "
   ]
  },
  {
   "cell_type": "code",
   "execution_count": 17,
   "id": "b1970af2",
   "metadata": {
    "ExecuteTime": {
     "end_time": "2023-11-23T16:02:57.962831Z",
     "start_time": "2023-11-23T16:02:57.960386Z"
    }
   },
   "outputs": [],
   "source": [
    "delta_omega=0.01\n",
    "phi=0"
   ]
  },
  {
   "cell_type": "code",
   "execution_count": 18,
   "id": "cc96b285",
   "metadata": {
    "ExecuteTime": {
     "end_time": "2023-11-23T16:02:58.248282Z",
     "start_time": "2023-11-23T16:02:58.244436Z"
    }
   },
   "outputs": [],
   "source": [
    "matrix=np.zeros((2,2),dtype='complex128')\n",
    "matrix[0][1]=np.exp((1j)*(delta_omega*1.1+phi))\n",
    "matrix[1][0]=np.exp((-1j)*(delta_omega*1.1+phi))"
   ]
  },
  {
   "cell_type": "code",
   "execution_count": 19,
   "id": "54089886",
   "metadata": {
    "ExecuteTime": {
     "end_time": "2023-11-23T16:02:58.620516Z",
     "start_time": "2023-11-23T16:02:58.616209Z"
    }
   },
   "outputs": [
    {
     "data": {
      "text/plain": [
       "array([[1.+0.j, 0.+0.j],\n",
       "       [0.+0.j, 1.+0.j]])"
      ]
     },
     "execution_count": 19,
     "metadata": {},
     "output_type": "execute_result"
    }
   ],
   "source": [
    "dagger_matrix=np.matrix.getH(matrix)\n",
    "np.matmul(dagger_matrix,matrix)"
   ]
  },
  {
   "cell_type": "markdown",
   "id": "fcda45de",
   "metadata": {},
   "source": [
    "# Task 2\n",
    "The reas"
   ]
  }
 ],
 "metadata": {
  "kernelspec": {
   "display_name": "Python 3 (ipykernel)",
   "language": "python",
   "name": "python3"
  },
  "language_info": {
   "codemirror_mode": {
    "name": "ipython",
    "version": 3
   },
   "file_extension": ".py",
   "mimetype": "text/x-python",
   "name": "python",
   "nbconvert_exporter": "python",
   "pygments_lexer": "ipython3",
   "version": "3.11.5"
  },
  "toc": {
   "base_numbering": 1,
   "nav_menu": {},
   "number_sections": false,
   "sideBar": true,
   "skip_h1_title": false,
   "title_cell": "Table of Contents",
   "title_sidebar": "Contents",
   "toc_cell": false,
   "toc_position": {},
   "toc_section_display": true,
   "toc_window_display": false
  }
 },
 "nbformat": 4,
 "nbformat_minor": 5
}
