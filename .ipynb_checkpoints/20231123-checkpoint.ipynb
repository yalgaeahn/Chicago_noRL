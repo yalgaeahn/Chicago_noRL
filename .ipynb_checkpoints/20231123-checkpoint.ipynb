{
 "cells": [
  {
   "cell_type": "code",
   "execution_count": 1,
   "id": "6eb87089",
   "metadata": {
    "ExecuteTime": {
     "end_time": "2023-11-23T13:59:04.252992Z",
     "start_time": "2023-11-23T13:59:04.250298Z"
    }
   },
   "outputs": [],
   "source": [
    "import numpy as np"
   ]
  },
  {
   "cell_type": "code",
   "execution_count": 57,
   "id": "bb8ee6b5",
   "metadata": {
    "ExecuteTime": {
     "end_time": "2023-11-23T14:06:02.942799Z",
     "start_time": "2023-11-23T14:06:02.938536Z"
    }
   },
   "outputs": [],
   "source": [
    "def func(a,y):\n",
    "    dx=1/int(1e6)\n",
    "    xs=np.arange(start=0,stop=y,step=dx)\n",
    "    def f(x):\n",
    "        return np.exp(1j*a*x)\n",
    "    \n",
    "    s_low=0\n",
    "    for x in xs:\n",
    "        s_low+=f(x)*dx\n",
    "    return s_low"
   ]
  },
  {
   "cell_type": "code",
   "execution_count": 3,
   "id": "0a9937a6",
   "metadata": {
    "ExecuteTime": {
     "end_time": "2023-11-23T13:59:04.295446Z",
     "start_time": "2023-11-23T13:59:04.283787Z"
    }
   },
   "outputs": [],
   "source": [
    "def true_func(a,y):\n",
    "    return np.exp(1j*a*y)*(-1j)/a - (1/((1j)*a))"
   ]
  },
  {
   "cell_type": "code",
   "execution_count": 4,
   "id": "634bb529",
   "metadata": {
    "ExecuteTime": {
     "end_time": "2023-11-23T13:59:06.822812Z",
     "start_time": "2023-11-23T13:59:04.297477Z"
    }
   },
   "outputs": [
    {
     "data": {
      "text/plain": [
       "(0.09408100036949445+1.3266615938400574j)"
      ]
     },
     "execution_count": 4,
     "metadata": {},
     "output_type": "execute_result"
    }
   ],
   "source": [
    "func(1.5,2.)"
   ]
  },
  {
   "cell_type": "code",
   "execution_count": 5,
   "id": "1c7b8cf4",
   "metadata": {
    "ExecuteTime": {
     "end_time": "2023-11-23T13:59:06.827986Z",
     "start_time": "2023-11-23T13:59:06.824539Z"
    }
   },
   "outputs": [
    {
     "data": {
      "text/plain": [
       "(0.0940800053732448+1.3266616644002969j)"
      ]
     },
     "execution_count": 5,
     "metadata": {},
     "output_type": "execute_result"
    }
   ],
   "source": [
    "true_func(1.5,2.)"
   ]
  },
  {
   "cell_type": "markdown",
   "id": "b77182ab",
   "metadata": {},
   "source": [
    "# Problem 2"
   ]
  },
  {
   "cell_type": "code",
   "execution_count": 59,
   "id": "80ca8c7c",
   "metadata": {
    "ExecuteTime": {
     "end_time": "2023-11-23T14:06:57.865973Z",
     "start_time": "2023-11-23T14:06:57.860388Z"
    }
   },
   "outputs": [],
   "source": [
    "def func2(t,f,time_step):\n",
    "    dt=time_step\n",
    "    sigma_x=np.array([[0,1],[1,0]],dtype='complex128')\n",
    "    s=np.arange(start=0,stop=t,step=dt)\n",
    "    \n",
    "    def U_derivative(t,f,U):\n",
    "        return (1j)*f(t)*np.matmul(sigma_x,U)\n",
    "    #initial U(t=0)\n",
    "    U_t=np.identity(2,dtype='complex128')\n",
    "    suma=U_t\n",
    "    \n",
    "    for t in s[1:]:\n",
    "        suma+=U_derivative(t,f,U=U_t)*dt\n",
    "        U_t=suma\n",
    "    return suma\n",
    "    \n",
    "    \n",
    "    \n",
    "    "
   ]
  },
  {
   "cell_type": "code",
   "execution_count": 58,
   "id": "63a201b1",
   "metadata": {
    "ExecuteTime": {
     "end_time": "2023-11-23T14:06:43.569778Z",
     "start_time": "2023-11-23T14:06:43.564728Z"
    },
    "code_folding": []
   },
   "outputs": [],
   "source": [
    "def true_func2(t,f,time_step):\n",
    "    def g(t):\n",
    "        dt=time_step\n",
    "        ts=np.arange(start=0,stop=t,step=dt)\n",
    "        suma=0\n",
    "        for t in ts:\n",
    "            suma+=f(t)*dt\n",
    "        return suma\n",
    "    sigma_x=np.array([[0,1],[1,0]])\n",
    "    I=np.identity(2)\n",
    "    return I*np.cos(g(t))+(1j)*sigma_x*np.sin(g(t))"
   ]
  },
  {
   "cell_type": "code",
   "execution_count": 8,
   "id": "a2ad0860",
   "metadata": {
    "ExecuteTime": {
     "end_time": "2023-11-23T13:59:06.894446Z",
     "start_time": "2023-11-23T13:59:06.885554Z"
    }
   },
   "outputs": [],
   "source": [
    "def f1(t):\n",
    "    return np.sin(t)"
   ]
  },
  {
   "cell_type": "code",
   "execution_count": 52,
   "id": "d1cf532e",
   "metadata": {
    "ExecuteTime": {
     "end_time": "2023-11-23T14:04:35.121309Z",
     "start_time": "2023-11-23T14:04:35.118528Z"
    }
   },
   "outputs": [],
   "source": [
    "time=np.linspace(0,20,20)"
   ]
  },
  {
   "cell_type": "code",
   "execution_count": 53,
   "id": "9114ebe5",
   "metadata": {
    "ExecuteTime": {
     "end_time": "2023-11-23T14:04:36.645700Z",
     "start_time": "2023-11-23T14:04:36.642089Z"
    }
   },
   "outputs": [],
   "source": [
    "import matplotlib.pyplot as plt\n",
    "%matplotlib inline"
   ]
  },
  {
   "cell_type": "code",
   "execution_count": 60,
   "id": "83ea1d86",
   "metadata": {
    "ExecuteTime": {
     "end_time": "2023-11-23T14:08:20.874436Z",
     "start_time": "2023-11-23T14:08:19.059347Z"
    }
   },
   "outputs": [],
   "source": [
    "heyhey=[]\n",
    "for t in time:\n",
    "    hey=func2(t,f1,1/(1e3))-true_func2(t,f1,1/(1e3))\n",
    "    heyhey.append(hey[0][0])"
   ]
  },
  {
   "cell_type": "code",
   "execution_count": 61,
   "id": "4ec39385",
   "metadata": {
    "ExecuteTime": {
     "end_time": "2023-11-23T14:09:52.749453Z",
     "start_time": "2023-11-23T14:09:35.133244Z"
    }
   },
   "outputs": [],
   "source": [
    "hihi=[]\n",
    "for t in time:\n",
    "    hi=func2(t,f1,1/(1e4))-true_func2(t,f1,1/(1e4))\n",
    "    hihi.append(hi[0][0])"
   ]
  },
  {
   "cell_type": "code",
   "execution_count": 56,
   "id": "ed52da0f",
   "metadata": {
    "ExecuteTime": {
     "end_time": "2023-11-23T14:04:38.888790Z",
     "start_time": "2023-11-23T14:04:38.756254Z"
    }
   },
   "outputs": [
    {
     "name": "stderr",
     "output_type": "stream",
     "text": [
      "/opt/conda/lib/python3.8/site-packages/matplotlib/cbook/__init__.py:1333: ComplexWarning: Casting complex values to real discards the imaginary part\n",
      "  return np.asarray(x, float)\n"
     ]
    },
    {
     "data": {
      "text/plain": [
       "[<matplotlib.lines.Line2D at 0x7f9b69b86c40>]"
      ]
     },
     "execution_count": 56,
     "metadata": {},
     "output_type": "execute_result"
    },
    {
     "data": {
      "image/png": "[encoded data removed]",
      "text/plain": [
       "<Figure size 432x288 with 1 Axes>"
      ]
     },
     "metadata": {
      "needs_background": "light"
     },
     "output_type": "display_data"
    }
   ],
   "source": [
    "fig,ax = plt.subplots()\n",
    "ax.plot(time,heyhey)\n"
   ]
  },
  {
   "cell_type": "code",
   "execution_count": 63,
   "id": "a3e9e4f2",
   "metadata": {
    "ExecuteTime": {
     "end_time": "2023-11-23T14:10:15.260058Z",
     "start_time": "2023-11-23T14:10:15.139909Z"
    }
   },
   "outputs": [
    {
     "name": "stderr",
     "output_type": "stream",
     "text": [
      "/opt/conda/lib/python3.8/site-packages/matplotlib/cbook/__init__.py:1333: ComplexWarning: Casting complex values to real discards the imaginary part\n",
      "  return np.asarray(x, float)\n",
      "/opt/conda/lib/python3.8/site-packages/matplotlib/cbook/__init__.py:1333: ComplexWarning: Casting complex values to real discards the imaginary part\n",
      "  return np.asarray(x, float)\n"
     ]
    },
    {
     "data": {
      "text/plain": [
       "[<matplotlib.lines.Line2D at 0x7f9b69af3880>]"
      ]
     },
     "execution_count": 63,
     "metadata": {},
     "output_type": "execute_result"
    },
    {
     "data": {
      "image/png": "[encoded data removed]",
      "text/plain": [
       "<Figure size 432x288 with 1 Axes>"
      ]
     },
     "metadata": {
      "needs_background": "light"
     },
     "output_type": "display_data"
    }
   ],
   "source": [
    "fig,ax = plt.subplots()\n",
    "ax.plot(time,hihi)\n",
    "ax.plot(time,heyhey)"
   ]
  },
  {
   "cell_type": "markdown",
   "id": "15320099",
   "metadata": {},
   "source": [
    "#time step\n",
    "$10^{-4}$"
   ]
  },
  {
   "cell_type": "code",
   "execution_count": null,
   "id": "b2a48c6c",
   "metadata": {},
   "outputs": [],
   "source": []
  }
 ],
 "metadata": {
  "kernelspec": {
   "display_name": "Python 3 (ipykernel)",
   "language": "python",
   "name": "python3"
  },
  "language_info": {
   "codemirror_mode": {
    "name": "ipython",
    "version": 3
   },
   "file_extension": ".py",
   "mimetype": "text/x-python",
   "name": "python",
   "nbconvert_exporter": "python",
   "pygments_lexer": "ipython3",
   "version": "3.11.5"
  },
  "toc": {
   "base_numbering": 1,
   "nav_menu": {},
   "number_sections": false,
   "sideBar": true,
   "skip_h1_title": false,
   "title_cell": "Table of Contents",
   "title_sidebar": "Contents",
   "toc_cell": false,
   "toc_position": {},
   "toc_section_display": true,
   "toc_window_display": false
  }
 },
 "nbformat": 4,
 "nbformat_minor": 5
}
