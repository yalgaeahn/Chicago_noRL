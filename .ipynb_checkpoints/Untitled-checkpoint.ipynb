{
 "cells": [
  {
   "cell_type": "code",
   "execution_count": 20,
   "id": "621ca083-8959-44a0-a07d-d28603718a1b",
   "metadata": {
    "scrolled": true
   },
   "outputs": [],
   "source": [
    "import qutip\n",
    "import numpy as np\n",
    "import matplotlib.pyplot as plt"
   ]
  },
  {
   "cell_type": "code",
   "execution_count": 13,
   "id": "3b2cb5aa-6f22-459c-875a-b2889a8b6ac0",
   "metadata": {},
   "outputs": [
    {
     "name": "stdout",
     "output_type": "stream",
     "text": [
      "\n",
      "QuTiP: Quantum Toolbox in Python\n",
      "================================\n",
      "Copyright (c) QuTiP team 2011 and later.\n",
      "Current admin team: Alexander Pitchford, Nathan Shammah, Shahnawaz Ahmed, Neill Lambert, Eric Giguère, Boxi Li, Jake Lishman, Simon Cross and Asier Galicia.\n",
      "Board members: Daniel Burgarth, Robert Johansson, Anton F. Kockum, Franco Nori and Will Zeng.\n",
      "Original developers: R. J. Johansson & P. D. Nation.\n",
      "Previous lead developers: Chris Granade & A. Grimsmo.\n",
      "Currently developed through wide collaboration. See https://github.com/qutip for details.\n",
      "\n",
      "QuTiP Version:      4.7.3\n",
      "Numpy Version:      1.26.0\n",
      "Scipy Version:      1.11.3\n",
      "Cython Version:     3.0.0\n",
      "Matplotlib Version: 3.8.0\n",
      "Python Version:     3.11.6\n",
      "Number of CPUs:     11\n",
      "BLAS Info:          Generic\n",
      "OPENMP Installed:   False\n",
      "INTEL MKL Ext:      False\n",
      "Platform Info:      Darwin (arm64)\n",
      "Installation path:  /Users/yalgaeahn/anaconda3/envs/qutip-env/lib/python3.11/site-packages/qutip\n",
      "================================================================================\n",
      "Please cite QuTiP in your publication.\n",
      "================================================================================\n",
      "For your convenience a bibtex reference can be easily generated using `qutip.cite()`\n"
     ]
    }
   ],
   "source": [
    "qutip.about()"
   ]
  },
  {
   "cell_type": "code",
   "execution_count": null,
   "id": "3cbdb874-4b7b-4a4c-b4f8-149253b5f142",
   "metadata": {},
   "outputs": [],
   "source": []
  },
  {
   "cell_type": "code",
   "execution_count": 14,
   "id": "c087a03c-b027-46fc-8b32-01cd0cc1238c",
   "metadata": {},
   "outputs": [],
   "source": [
    "b=qutip.Bloch()"
   ]
  },
  {
   "cell_type": "code",
   "execution_count": 15,
   "id": "f97c87b0-007e-47c8-8e5a-4fe032a1b071",
   "metadata": {},
   "outputs": [],
   "source": [
    "b.make_sphere()"
   ]
  },
  {
   "cell_type": "code",
   "execution_count": 18,
   "id": "c6b2dc9c-5790-48c2-a9d1-436403011117",
   "metadata": {},
   "outputs": [],
   "source": [
    "pnt = [1/np.sqrt(3), 1/np.sqrt(3), 1/np.sqrt(3)]\n",
    "b.add_points(pnt)\n",
    "b.render()"
   ]
  },
  {
   "cell_type": "code",
   "execution_count": 19,
   "id": "183e6922-b8aa-43bc-b38f-f8f0a68edd56",
   "metadata": {},
   "outputs": [],
   "source": [
    "b = qutip.Bloch()\n",
    "\n",
    "pnt = [1./np.sqrt(3), 1./np.sqrt(3), 1./np.sqrt(3)]\n",
    "b.add_points(pnt)\n",
    "vec = [0, 1, 0]\n",
    "b.add_vectors(vec)\n",
    "up = qutip.basis(2, 0)\n",
    "b.add_states(up)\n",
    "b.render()"
   ]
  },
  {
   "cell_type": "code",
   "execution_count": null,
   "id": "2eadca73-d214-45d2-8b92-4ce16eabc53b",
   "metadata": {},
   "outputs": [],
   "source": []
  },
  {
   "cell_type": "code",
   "execution_count": null,
   "id": "e76942c7-1fea-47ef-a536-4e9f7df45810",
   "metadata": {},
   "outputs": [],
   "source": []
  }
 ],
 "metadata": {
  "kernelspec": {
   "display_name": "Python 3 (ipykernel)",
   "language": "python",
   "name": "python3"
  },
  "language_info": {
   "codemirror_mode": {
    "name": "ipython",
    "version": 3
   },
   "file_extension": ".py",
   "mimetype": "text/x-python",
   "name": "python",
   "nbconvert_exporter": "python",
   "pygments_lexer": "ipython3",
   "version": "3.11.6"
  }
 },
 "nbformat": 4,
 "nbformat_minor": 5
}
